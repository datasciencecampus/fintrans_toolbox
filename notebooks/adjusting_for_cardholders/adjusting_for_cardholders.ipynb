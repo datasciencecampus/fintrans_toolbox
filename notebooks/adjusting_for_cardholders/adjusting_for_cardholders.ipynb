{
 "cells": [
  {
   "cell_type": "code",
   "execution_count": null,
   "id": "66f389a1-9169-4f77-9cc7-bdc2b0bf5eb5",
   "metadata": {},
   "outputs": [],
   "source": [
    "# Going to make a data frame to wip which is linked on date to any dataframe to get adjusted values\n",
    "# move it into toolbox where it will be in make data"
   ]
  },
  {
   "cell_type": "code",
   "execution_count": null,
   "id": "d56cde59-40ff-4024-95db-77a21ebd635e",
   "metadata": {},
   "outputs": [],
   "source": [
    "project_path = \"/home/jupyter\"\n",
    "import sys\n",
    "\n",
    "sys.path.append(project_path)\n",
    "import matplotlib.pyplot as plt\n",
    "import numpy as np\n",
    "import pandas as pd\n",
    "import seaborn as sns\n",
    "from google.cloud import bigquery\n",
    "\n",
    "from fintrans_toolbox.src import bq_utils as bq\n",
    "from fintrans_toolbox.src import table_utils as t"
   ]
  },
  {
   "cell_type": "code",
   "execution_count": null,
   "id": "694c2d6e-8ac0-4398-b009-b05819997401",
   "metadata": {},
   "outputs": [],
   "source": [
    "client = bigquery.Client()"
   ]
  },
  {
   "cell_type": "code",
   "execution_count": null,
   "id": "4d74c516-43f6-44b6-a5c9-9b392a7893db",
   "metadata": {},
   "outputs": [],
   "source": [
    "# We first need to create our adjustment tables that we will bring in every time we want to create an adjusted value\n",
    "# we do one for each table and each month/quarter then join on the date\n",
    "\n",
    "# THE ADJUSTMENT TABLES will have to be amendended as they don't account for"
   ]
  },
  {
   "cell_type": "code",
   "execution_count": null,
   "id": "e5320d94-9ad1-42b2-a855-782896badced",
   "metadata": {},
   "outputs": [],
   "source": [
    "# sml"
   ]
  },
  {
   "cell_type": "code",
   "execution_count": null,
   "id": "8aaa29c6-ebad-497b-b9a3-f94c2a803412",
   "metadata": {},
   "outputs": [],
   "source": [
    "%%bigquery\n",
    "CREATE OR REPLACE VIEW ons-fintrans-analysis-prod.fin_wip_notebook.sml_cardholders_q AS\n",
    "SELECT DATETIME(CAST(SUBSTRING(time_period_value, 1,4) AS int), CAST(SUBSTRING(time_period_value,6,6)AS int)*3, 01,00,00,00) AS\n",
    "date_time, time_period_value, cardholders AS cardholders_all, FROM ons-fintrans-data-prod.fintrans_visa.spend_merchant_location WHERE time_period = 'Quarter' AND \n",
    "mcg = 'All' AND merchant_location_level = 'All' AND cardholder_issuing_level = 'All'"
   ]
  },
  {
   "cell_type": "code",
   "execution_count": null,
   "id": "76d62b99-1c55-4be2-8c77-5d3f6563fa51",
   "metadata": {},
   "outputs": [],
   "source": [
    "%%bigquery\n",
    "CREATE OR REPLACE VIEW ons-fintrans-analysis-prod.fin_wip_notebook.sml_cardholders_m AS\n",
    "SELECT DATETIME(CAST(SUBSTRING(time_period_value, 1,4) AS int), CAST(SUBSTRING(time_period_value,5,6)AS int), 01,00,00,00) AS\n",
    "date_time, time_period_value, cardholders AS cardholders_all, FROM ons-fintrans-data-prod.fintrans_visa.spend_merchant_location WHERE time_period = 'Month' AND \n",
    "mcg = 'All' AND merchant_location_level = 'All' AND cardholder_issuing_level = 'All'"
   ]
  },
  {
   "cell_type": "code",
   "execution_count": null,
   "id": "86c9f647-722d-4609-b590-6f7fafb9b067",
   "metadata": {},
   "outputs": [],
   "source": [
    "# spoc"
   ]
  },
  {
   "cell_type": "code",
   "execution_count": null,
   "id": "29edf756-0ed6-4d5a-8e69-95bf6d840858",
   "metadata": {},
   "outputs": [],
   "source": [
    "%%bigquery\n",
    "CREATE OR REPLACE VIEW ons-fintrans-analysis-prod.fin_wip_notebook.spoc_cardholders_q AS\n",
    "SELECT DATETIME(CAST(SUBSTRING(time_period_value, 1,4) AS int), CAST(SUBSTRING(time_period_value,6,6)AS int)*3, 01,00,00,00) AS\n",
    "date_time, time_period_value, cardholders AS cardholders_all, FROM ons-fintrans-data-prod.fintrans_visa.spend_origin_and_channel WHERE time_period = 'Quarter' AND \n",
    "mcg = 'All' AND merchant_channel = 'All' AND cardholder_origin = 'All' AND destination_country = 'UNITED KINGDOM'"
   ]
  },
  {
   "cell_type": "code",
   "execution_count": null,
   "id": "9123bce1-f74f-479f-b2e2-2d12d846cc8f",
   "metadata": {},
   "outputs": [],
   "source": [
    "%%bigquery\n",
    "CREATE OR REPLACE VIEW ons-fintrans-analysis-prod.fin_wip_notebook.spoc_cardholders_m AS\n",
    "SELECT DATETIME(CAST(SUBSTRING(time_period_value, 1,4) AS int), CAST(SUBSTRING(time_period_value,5,6)AS int), 01,00,00,00) AS\n",
    "date_time, time_period_value, cardholders AS cardholders_all, FROM ons-fintrans-data-prod.fintrans_visa.spend_origin_and_channel WHERE time_period = 'Month' AND \n",
    "mcg = 'All' AND merchant_channel = 'All' AND cardholder_origin = 'All' AND destination_country = 'UNITED KINGDOM'"
   ]
  },
  {
   "cell_type": "code",
   "execution_count": null,
   "id": "6b24bc79-df9d-4fcd-b8af-a4626b10e60c",
   "metadata": {},
   "outputs": [],
   "source": [
    "# rphst"
   ]
  },
  {
   "cell_type": "code",
   "execution_count": null,
   "id": "4b529137-ed35-4eb5-88c5-72e3695b8ab2",
   "metadata": {},
   "outputs": [],
   "source": [
    "%%bigquery\n",
    "CREATE OR REPLACE VIEW ons-fintrans-analysis-prod.fin_wip_notebook.sml_cardholders_q AS\n",
    "SELECT DATETIME(CAST(SUBSTRING(time_period_value, 1,4) AS int), CAST(SUBSTRING(time_period_value,6,6)AS int)*3, 01,00,00,00) AS\n",
    "date_time, time_period_value, cardholders AS cardholders_all, FROM ons-fintrans-data-prod.fintrans_visa.spend_merchant_location WHERE time_period = 'Quarter' AND \n",
    "mcg = 'All' AND merchant_location_level = 'All' AND cardholder_issuing_level = 'All'"
   ]
  },
  {
   "cell_type": "code",
   "execution_count": null,
   "id": "9b487587-b625-450d-9dd6-b83bade86238",
   "metadata": {},
   "outputs": [],
   "source": [
    "%%bigquery\n",
    "CREATE OR REPLACE VIEW ons-fintrans-analysis-prod.fin_wip_notebook.sml_cardholders_m AS\n",
    "SELECT DATETIME(CAST(SUBSTRING(time_period_value, 1,4) AS int), CAST(SUBSTRING(time_period_value,5,6)AS int), 01,00,00,00) AS\n",
    "date_time, time_period_value, cardholders AS cardholders_all, FROM ons-fintrans-data-prod.fintrans_visa.spend_merchant_location WHERE time_period = 'Month' AND \n",
    "mcg = 'All' AND merchant_location_level = 'All' AND cardholder_issuing_level = 'All'"
   ]
  },
  {
   "cell_type": "code",
   "execution_count": null,
   "id": "159544b8-ec76-447f-b5a3-13b5fdebf487",
   "metadata": {},
   "outputs": [],
   "source": [
    "def create_adjusted_value(df1, table, time_period):\n",
    "    \"\"\" \"\"\"\n",
    "    df_adj = bq.read_full_bq_table(\n",
    "        client,\n",
    "        f\"ons-fintrans-analysis-prod.fin_wip_notebook.{retrieve_adjustment_table(table,time_period)}\",\n",
    "    )\n",
    "    # link on datetime first\n",
    "    try:\n",
    "        df = df1.merge(\n",
    "            df_adj[[\"date_time\", \"cardholders_all\"]], on=\"date_time\", how=\"outer\"\n",
    "        )\n",
    "    except Exception as e:\n",
    "        print(\n",
    "            f\"{e}: using time_period_value instead of date_time, consider converting to date_time\"\n",
    "        )\n",
    "        df = df1.merge(\n",
    "            df_adj[[\"time_period_value\", \"cardholders_all\"]],\n",
    "            on=\"date_time\",\n",
    "            how=\"outer\",\n",
    "        )\n",
    "    try:\n",
    "        df[\"adj_spend\"] = df[\"spend\"] / df[\"cardholders_all\"]\n",
    "    except Exception as e:\n",
    "        print(f\"{e}\")\n",
    "    try:\n",
    "        df[\"adj_transactions\"] = df[\"transactions\"] / df[\"cardholders_all\"]\n",
    "    except Exception as e:\n",
    "        print(f\"{e}\")\n",
    "\n",
    "    return df"
   ]
  },
  {
   "cell_type": "code",
   "execution_count": null,
   "id": "d47a8af2-51f8-4c52-af59-735f0dd0d644",
   "metadata": {},
   "outputs": [],
   "source": [
    "def retrieve_adjustment_table(table, time_period):\n",
    "    \"\"\" \"\"\"\n",
    "    if time_period in [\"Quarter\", \"quarter\", \"q\"]:\n",
    "        time_period = \"Q\"\n",
    "    if time_period in [\"Month\", \"month\", \"m\"]:\n",
    "        time_period = \"M\"\n",
    "\n",
    "    if table == \"spend_merchant_location\":\n",
    "        table = \"sml\"\n",
    "    if table == \"retail_performance_high_streets_towns\":\n",
    "        table = \"rphst\"\n",
    "    if table == \"spend_origin_and_channel\":\n",
    "        table = \"spoc\"\n",
    "\n",
    "    return {\n",
    "        (\"sml\", \"Q\"): \"sml_cardholders_q\",\n",
    "        (\"sml\", \"M\"): \"sml_cardholders_m\",\n",
    "        (\"spoc\", \"Q\"): \"spoc_cardholders_q\",\n",
    "        (\"spoc\", \"M\"): \"spoc_cardholders_m\",\n",
    "        (\"rphst\", \"Q\"): \"rphst_cardholders_q\",\n",
    "        (\"rphst\", \"M\"): \"rphst_cardholders_m\",\n",
    "    }[table, time_period]"
   ]
  },
  {
   "cell_type": "code",
   "execution_count": null,
   "id": "1bd699bf-9562-4570-8ca6-3309dcfc3116",
   "metadata": {},
   "outputs": [],
   "source": [
    "# showing how retrieve adjustment table works\n",
    "retrieve_adjustment_table(\"sml\", \"M\")"
   ]
  },
  {
   "cell_type": "code",
   "execution_count": null,
   "id": "4d62a3fb-88fd-4df2-908a-9f0db2930b7f",
   "metadata": {},
   "outputs": [],
   "source": [
    "# how retrieve adjustment function is used to retrieve and you can see the plot of cardholders\n",
    "df_spoc = bq.read_full_bq_table(\n",
    "    client,\n",
    "    f\"ons-fintrans-analysis-prod.fin_wip_notebook.{retrieve_adjustment_table('spoc','M')}\",\n",
    ")\n",
    "plt.plot(\"date_time\", \"cardholders_all\", data=df_spoc.sort_values(\"date_time\"))\n",
    "# The plot shows we may need to work on these tables and adjust differently i.e. use vicky's tables but\n",
    "# we could end up having one adjustment table and adjusting like that\n",
    "# Theoretically could probably join within the sql statement for efficiency purposes rather than via pandas"
   ]
  },
  {
   "cell_type": "code",
   "execution_count": null,
   "id": "450bee86-a10d-4fd1-8a9f-75777a55464f",
   "metadata": {},
   "outputs": [],
   "source": [
    "df_check = bq.read_full_bq_table(\n",
    "    client, \"ons-fintrans-analysis-prod.fin_wip_notebook.sml_cardholders_q\"\n",
    ")"
   ]
  },
  {
   "cell_type": "code",
   "execution_count": null,
   "id": "7f11cbb4-d2a5-409b-a36b-4cb2ffaf788a",
   "metadata": {},
   "outputs": [],
   "source": [
    "df_check"
   ]
  },
  {
   "cell_type": "code",
   "execution_count": null,
   "id": "a4145c39-8b81-41a5-a8dd-ae586d79774c",
   "metadata": {},
   "outputs": [],
   "source": [
    "df1 = t.read_spend_merchant_location(client, mcg=\"\")"
   ]
  },
  {
   "cell_type": "code",
   "execution_count": null,
   "id": "23abf1fb-33a3-4d3f-a238-941c78888810",
   "metadata": {},
   "outputs": [],
   "source": [
    "df1"
   ]
  },
  {
   "cell_type": "code",
   "execution_count": null,
   "id": "67a7a7da-70e0-4ee4-89b4-6b735c9ea62a",
   "metadata": {},
   "outputs": [],
   "source": [
    "df3 = create_adjusted_value(df1, \"sml\", \"Quarter\")"
   ]
  },
  {
   "cell_type": "code",
   "execution_count": null,
   "id": "d7d0ba55-6aef-4e6a-849f-dea1517fac8c",
   "metadata": {},
   "outputs": [],
   "source": [
    "df3 = t.create_index(df3, \"adj_spend\", t.get_cat_vars(\"sml\"))"
   ]
  },
  {
   "cell_type": "code",
   "execution_count": null,
   "id": "45147abc-877b-421c-b03c-fa6231b27fd0",
   "metadata": {},
   "outputs": [],
   "source": [
    "df3"
   ]
  },
  {
   "cell_type": "code",
   "execution_count": null,
   "id": "eae78ac0-49fe-41e0-a5de-da5d19af7f76",
   "metadata": {},
   "outputs": [],
   "source": [
    "plt.plot(\n",
    "    \"date_time\",\n",
    "    \"adj_spend_index\",\n",
    "    data=df3[df3[\"mcg\"] == \"TRAVEL SERVICES\"].sort_values(\"date_time\"),\n",
    ")"
   ]
  }
 ],
 "metadata": {
  "environment": {
   "kernel": "python3",
   "name": "r-cpu.4-2.m102",
   "type": "gcloud",
   "uri": "gcr.io/deeplearning-platform-release/r-cpu.4-2:m102"
  },
  "language_info": {
   "codemirror_mode": {
    "name": "ipython",
    "version": 3
   },
   "file_extension": ".py",
   "mimetype": "text/x-python",
   "name": "python",
   "nbconvert_exporter": "python",
   "pygments_lexer": "ipython3",
   "version": "3.7.12"
  }
 },
 "nbformat": 4,
 "nbformat_minor": 5
}
