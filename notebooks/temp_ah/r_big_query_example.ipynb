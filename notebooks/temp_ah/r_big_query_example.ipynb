{
 "cells": [
  {
   "cell_type": "code",
   "execution_count": null,
   "id": "bb171401-233a-49e6-8ab0-a54801a1a0e8",
   "metadata": {},
   "outputs": [],
   "source": [
    "# load the package\n",
    "library(bigrquery)"
   ]
  },
  {
   "cell_type": "code",
   "execution_count": null,
   "id": "4dd28036-1a51-48ca-8899-e0648637ce90",
   "metadata": {},
   "outputs": [],
   "source": [
    "# project id\n",
    "projectid = \"ons-fintrans-analysis-prod\""
   ]
  },
  {
   "cell_type": "code",
   "execution_count": null,
   "id": "583aacc4-6cc5-4196-8b91-5cd2e89495da",
   "metadata": {},
   "outputs": [],
   "source": [
    "# sql query, you can test this using bigquery first but run in notebooks\n",
    "sql < -\"SELECT * FROM `bigquery-public-data.usa_names.usa_1910_current` LIMIT 10\""
   ]
  },
  {
   "cell_type": "code",
   "execution_count": null,
   "id": "58ea8e0e-2a0d-468c-84f9-680d121f4099",
   "metadata": {},
   "outputs": [],
   "source": [
    "# runs the query and returns the selected data\n",
    "usa_names < -bq_project_query(projectid, sql)"
   ]
  },
  {
   "cell_type": "code",
   "execution_count": null,
   "id": "00cfbe3f-4e50-4ca4-a855-be277b24ed6c",
   "metadata": {},
   "outputs": [],
   "source": [
    "# returns a dataframe/tibble subset of the queried data\n",
    "head_usa_names < -bq_table_download(usa_names, n_max=5)\n",
    "head_usa_names"
   ]
  },
  {
   "cell_type": "code",
   "execution_count": null,
   "id": "f6694ad0-8745-4cbf-89da-3f39eda2c416",
   "metadata": {},
   "outputs": [],
   "source": [
    "# sql query, you can test this using bigquery first but run in notebooks\n",
    "fintrans_sql < -\"SELECT * FROM `ons-fintrans-data-prod.fintrans_visa.spend_origin_and_channel` LIMIT 10\""
   ]
  },
  {
   "cell_type": "code",
   "execution_count": null,
   "id": "757e45d0-41ca-412a-b99b-4caf2f04663e",
   "metadata": {},
   "outputs": [],
   "source": [
    "# runs the query and returns the selected data - £££££\n",
    "fintrans_synthetic < -bq_project_query(projectid, fintrans_sql)"
   ]
  },
  {
   "cell_type": "code",
   "execution_count": null,
   "id": "91259a1b-ac6b-40df-9c24-b79b92189f7f",
   "metadata": {},
   "outputs": [],
   "source": [
    "# returns a dataframe/tibble subset of the queried data\n",
    "fintrans_synthetic_subset < -bq_table_download(fintrans_synthetic, n_max=10)\n",
    "fintrans_synthetic_subset"
   ]
  },
  {
   "cell_type": "code",
   "execution_count": null,
   "id": "df34936f-c3ad-4617-8eb0-311cab452260",
   "metadata": {},
   "outputs": [],
   "source": [
    "# this is the documentation for bigrquery\n",
    "print(\"https://cran.r-project.org/web/packages/bigrquery/bigrquery.pdf\")"
   ]
  },
  {
   "cell_type": "code",
   "execution_count": null,
   "id": "364622b5-765b-4a92-9a6d-4e2b368b6475",
   "metadata": {},
   "outputs": [],
   "source": [
    "# there is some way to move selected queries to a WIP area, if they are kept in notebooks this can be costly and can be lost (i think)"
   ]
  }
 ],
 "metadata": {
  "environment": {
   "kernel": "ir",
   "name": "r-cpu.4-2.m102",
   "type": "gcloud",
   "uri": "gcr.io/deeplearning-platform-release/r-cpu.4-2:m102"
  },
  "language_info": {
   "codemirror_mode": "r",
   "file_extension": ".r",
   "mimetype": "text/x-r-source",
   "name": "R",
   "pygments_lexer": "r",
   "version": "4.2.2"
  }
 },
 "nbformat": 4,
 "nbformat_minor": 5
}
