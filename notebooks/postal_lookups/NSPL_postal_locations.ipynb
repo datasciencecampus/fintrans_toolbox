{
 "cells": [
  {
   "cell_type": "markdown",
   "id": "0311c40e-fe20-4a05-b091-831d92d06eca",
   "metadata": {},
   "source": [
    "<h1>Creating Geography lookup tables</h1>\n",
    "\n",
    "This file creates a postcode locations from the NSPL_May_2022_UK.<br>\n",
    "This output can be be joined to tables read in using area/district/sector. <br>"
   ]
  },
  {
   "cell_type": "code",
   "execution_count": null,
   "id": "7d6984b6-048c-42ce-850a-bfd4268b01cb",
   "metadata": {},
   "outputs": [],
   "source": [
    "project_path = \"/home/jupyter\"\n",
    "import sys\n",
    "sys.path.append(project_path)\n",
    "\n",
    "import numpy as np\n",
    "import pandas as pd\n",
    "\n",
    "from fintrans_toolbox.src import bq_utils as bq\n",
    "from google.cloud import bigquery"
   ]
  },
  {
   "cell_type": "code",
   "execution_count": null,
   "id": "249c179c-28ae-428d-bd37-94a643c09132",
   "metadata": {},
   "outputs": [],
   "source": [
    "client = bigquery.Client()"
   ]
  },
  {
   "cell_type": "code",
   "execution_count": null,
   "id": "c6637d25-2891-47a2-ac51-ce2140ae37ab",
   "metadata": {},
   "outputs": [],
   "source": [
    "#Read in NSPL\n",
    "sql_nspl = \"\"\"SELECT DISTINCT pcds, doterm, rgn, ctry, ru11ind, imd\n",
    "FROM ons-fintrans-data-prod.fintrans_reference.NSPL_MAY_2022_UK\"\"\"\n",
    "\n",
    "df_nspl = bq.read_bq_table_sql(client, sql_nspl)\n",
    "#Remove postcodes that terminated pre 2019\n",
    "df_nspl = df_nspl[(df_nspl.doterm >= 201901) |  (df_nspl.doterm.isna())]"
   ]
  },
  {
   "cell_type": "code",
   "execution_count": null,
   "id": "f232d960-01e9-46f9-a8aa-1ec260971471",
   "metadata": {},
   "outputs": [],
   "source": [
    "#Caluclate area, district, sector\n",
    "df_nspl[['postal_district','postal_sector']] = df_nspl[\"pcds\"].str.split(\" \", 1, expand=True)\n",
    "df_nspl['postal_sector'] = df_nspl['postal_sector'].str.strip()\n",
    "df_nspl['postal_sector'] = df_nspl['postal_sector'].str[:1]\n",
    "df_nspl['postal_sector'] = df_nspl['postal_district'] + \" \" +  df_nspl['postal_sector']\n",
    "df_nspl['postal_area'] = df_nspl['postal_sector'].str[:2]\n",
    "df_nspl['postal_area'] = df_nspl['postal_area'].str.replace('\\d+', '', regex=True)\n",
    "df_nspl['postal_area'] = df_nspl['postal_area'].str[:2]\n",
    "\n",
    "#remove whitespace\n",
    "df_nspl['postal_area'] = df_nspl['postal_area'].str.strip()\n",
    "df_nspl['postal_sector'] = df_nspl['postal_sector'].str.strip()\n",
    "df_nspl['postal_district'] = df_nspl['postal_district'].str.strip()"
   ]
  },
  {
   "cell_type": "code",
   "execution_count": null,
   "id": "e1fc8028-d01d-44c0-a0da-f7e997f3260b",
   "metadata": {},
   "outputs": [],
   "source": [
    "#Create Region Lookup\n",
    "r = {'rgn':['E12000001','E12000002','E12000003', 'E12000004', 'E12000005','E12000006','E12000007','E12000008','E12000009','W99999999','S99999999','N99999999','L99999999','M99999999'], \n",
    "     'region':['North East','North West','Yorkshire and The Humber','East Midlands','West Midlands','East of England','London','South East','South West','Wales', 'Scotland','Northern Ireland','Channel Islands','Isle of Man']}\n",
    "df_region = pd.DataFrame(data = r)"
   ]
  },
  {
   "cell_type": "code",
   "execution_count": null,
   "id": "4c336273-1f84-45f4-9efa-92f8cae12843",
   "metadata": {},
   "outputs": [],
   "source": [
    "#Create Country Lookup\n",
    "c = {'ctry':['E92000001','N92000002','S92000003','W92000004','L93000001','M83000003'], \n",
    "     'country':['England','Northern Ireland','Scotland','Wales','Channel Islands','Isle of Man']}\n",
    "df_country = pd.DataFrame(data = c)"
   ]
  },
  {
   "cell_type": "code",
   "execution_count": null,
   "id": "b679424b-4813-4232-8928-b959f9350c8e",
   "metadata": {},
   "outputs": [],
   "source": [
    "#Merge Lookups\n",
    "df_nspl = pd.merge(df_nspl, df_region, how=\"left\", on=[\"rgn\"])\n",
    "df_nspl = pd.merge(df_nspl, df_country, how=\"left\", on=[\"ctry\"])"
   ]
  },
  {
   "cell_type": "code",
   "execution_count": null,
   "id": "399a0ee7-d39f-4eb5-8801-04314d08b943",
   "metadata": {},
   "outputs": [],
   "source": [
    "df_nspl = df_nspl[['postal_area', 'postal_district','postal_sector', 'pcds', 'region', 'country', 'ru11ind', 'imd']]\n",
    "df_nspl = df_nspl.sort_values('pcds')"
   ]
  },
  {
   "cell_type": "code",
   "execution_count": null,
   "id": "75d855df-c56b-43b2-8deb-a197d90e536b",
   "metadata": {},
   "outputs": [],
   "source": [
    "#df_nspl.to_csv(\"~/fintrans_toolbox/data/NSPL_location_lookup.csv\", index=False)"
   ]
  },
  {
   "cell_type": "code",
   "execution_count": null,
   "id": "b5490558-8e50-4c72-a397-87c75fd77faf",
   "metadata": {
    "tags": []
   },
   "outputs": [],
   "source": [
    "#saves dataframe as big query table\n",
    "#to replace dataframe, change if_exists = 'replace'\n",
    "df_nspl.to_gbq('ons-fintrans-analysis-prod.fin_wip_notebook.nspl_postal_level_lookup', project_id=None, chunksize=None, reauth=False, \n",
    "                 if_exists='replace', auth_local_webserver=True, table_schema=None, \n",
    "                 location=None, progress_bar=True, credentials=None)"
   ]
  }
 ],
 "metadata": {
  "environment": {
   "kernel": "python3",
   "name": ".m116",
   "type": "gcloud",
   "uri": "gcr.io/deeplearning-platform-release/:m116"
  },
  "language_info": {
   "codemirror_mode": {
    "name": "ipython",
    "version": 3
   },
   "file_extension": ".py",
   "mimetype": "text/x-python",
   "name": "python",
   "nbconvert_exporter": "python",
   "pygments_lexer": "ipython3",
   "version": "3.10.13"
  }
 },
 "nbformat": 4,
 "nbformat_minor": 5
}
