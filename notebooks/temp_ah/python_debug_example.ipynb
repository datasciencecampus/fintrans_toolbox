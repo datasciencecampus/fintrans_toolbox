{
 "cells": [
  {
   "cell_type": "code",
   "execution_count": null,
   "id": "d2cd8d04-3f45-4b80-8313-c78a1d668759",
   "metadata": {},
   "outputs": [],
   "source": [
    "message = \"hello_world\""
   ]
  },
  {
   "cell_type": "code",
   "execution_count": null,
   "id": "ff8f2825-3521-4ba7-a74f-39465de8e0e3",
   "metadata": {},
   "outputs": [],
   "source": [
    "print(message)"
   ]
  },
  {
   "cell_type": "code",
   "execution_count": null,
   "id": "15b47623-f644-44d9-8f1b-9729cc2abebc",
   "metadata": {},
   "outputs": [],
   "source": [
    "import pandas as pd"
   ]
  },
  {
   "cell_type": "code",
   "execution_count": null,
   "id": "ef4bee8b-ace9-4209-8387-0298fddaaf43",
   "metadata": {},
   "outputs": [],
   "source": [
    "cute_data = pd.DataFrame({\"Name\": [\"Yuki\", \"Not Yuki\"], \"Cuteness\": [\"Very\", \"None\"]})"
   ]
  },
  {
   "cell_type": "code",
   "execution_count": null,
   "id": "24e14993-2304-49c9-ba37-3c1a57137611",
   "metadata": {},
   "outputs": [],
   "source": [
    "print(cute_data)"
   ]
  },
  {
   "cell_type": "code",
   "execution_count": null,
   "id": "3ab37553-33d6-4ab3-8959-e802563c2871",
   "metadata": {},
   "outputs": [],
   "source": []
  }
 ],
 "metadata": {
  "environment": {
   "kernel": "python3",
   "name": "r-cpu.4-2.m102",
   "type": "gcloud",
   "uri": "gcr.io/deeplearning-platform-release/r-cpu.4-2:m102"
  },
  "language_info": {
   "codemirror_mode": {
    "name": "ipython",
    "version": 3
   },
   "file_extension": ".py",
   "mimetype": "text/x-python",
   "name": "python",
   "nbconvert_exporter": "python",
   "pygments_lexer": "ipython3",
   "version": "3.7.12"
  }
 },
 "nbformat": 4,
 "nbformat_minor": 5
}
