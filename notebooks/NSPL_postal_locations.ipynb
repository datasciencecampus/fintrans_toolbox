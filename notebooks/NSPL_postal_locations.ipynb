{
 "cells": [
  {
   "cell_type": "markdown",
   "id": "0311c40e-fe20-4a05-b091-831d92d06eca",
   "metadata": {},
   "source": [
    "<h1>Creating Geography lookup tables</h1>\n",
    "\n",
    "This file creates a postcode locations from the NSPL_May_2022_UK.<br>\n",
    "This output can be be joined to tables read in using area/district/sector. <br>"
   ]
  },
  {
   "cell_type": "code",
   "execution_count": null,
   "id": "7d6984b6-048c-42ce-850a-bfd4268b01cb",
   "metadata": {},
   "outputs": [],
   "source": [
    "project_path = \"/home/jupyter\"\n",
    "import sys\n",
    "sys.path.append(project_path)\n",
    "\n",
    "import numpy as np\n",
    "import pandas as pd\n",
    "\n",
    "from fintrans_toolbox.src import bq_utils as bq\n",
    "from google.cloud import bigquery"
   ]
  },
  {
   "cell_type": "code",
   "execution_count": null,
   "id": "249c179c-28ae-428d-bd37-94a643c09132",
   "metadata": {},
   "outputs": [],
   "source": [
    "client = bigquery.Client()"
   ]
  },
  {
   "cell_type": "code",
   "execution_count": null,
   "id": "c6637d25-2891-47a2-ac51-ce2140ae37ab",
   "metadata": {},
   "outputs": [],
   "source": [
    "#Read in NSPL\n",
    "sql_nspl = \"\"\"SELECT DISTINCT pcds, doterm, rgn, ctry, ru11ind, imd\n",
    "FROM ons-fintrans-data-prod.fintrans_reference.NSPL_MAY_2022_UK\"\"\"\n",
    "\n",
    "df_nspl = bq.read_bq_table_sql(client, sql_nspl)\n",
    "#Remove postcodes that terminated pre 2019\n",
    "df_nspl = df_nspl[(df_nspl.doterm >= 201901) |  (df_nspl.doterm.isna())]"
   ]
  },
  {
   "cell_type": "code",
   "execution_count": null,
   "id": "f232d960-01e9-46f9-a8aa-1ec260971471",
   "metadata": {},
   "outputs": [],
   "source": [
    "#Caluclate area, district, sector\n",
    "df_nspl[['postal_district','postal_sector']] = df_nspl[\"pcds\"].str.split(\" \", 1, expand=True)\n",
    "df_nspl['postal_sector'] = df_nspl['postal_sector'].str.strip()\n",
    "df_nspl['postal_sector'] = df_nspl['postal_sector'].str[:1]\n",
    "df_nspl['postal_sector'] = df_nspl['postal_district'] + \" \" +  df_nspl['postal_sector']\n",
    "df_nspl['postal_area'] = df_nspl['postal_district'].str.replace('\\d+', '')\n",
    "df_nspl['postal_area'] = df_nspl['postal_area'].str[:2]\n",
    "\n",
    "#Reorder columns\n",
    "cols = df_nspl.columns.tolist()\n",
    "cols = cols[-3:] + cols[:-3]\n",
    "df_nspl = df_nspl[cols] "
   ]
  },
  {
   "cell_type": "code",
   "execution_count": null,
   "id": "75d855df-c56b-43b2-8deb-a197d90e536b",
   "metadata": {},
   "outputs": [],
   "source": [
    "df_nspl.to_csv(\"~/fintrans_toolbox/data/NSPL_location_lookup.csv\")"
   ]
  }
 ],
 "metadata": {
  "environment": {
   "kernel": "python3",
   "name": "r-cpu.4-2.m107",
   "type": "gcloud",
   "uri": "gcr.io/deeplearning-platform-release/r-cpu.4-2:m107"
  },
  "language_info": {
   "codemirror_mode": {
    "name": "ipython",
    "version": 3
   },
   "file_extension": ".py",
   "mimetype": "text/x-python",
   "name": "python",
   "nbconvert_exporter": "python",
   "pygments_lexer": "ipython3",
   "version": "3.7.12"
  }
 },
 "nbformat": 4,
 "nbformat_minor": 5
}
