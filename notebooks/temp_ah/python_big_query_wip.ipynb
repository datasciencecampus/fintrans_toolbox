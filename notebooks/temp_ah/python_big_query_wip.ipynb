{
 "cells": [
  {
   "cell_type": "code",
   "execution_count": null,
   "id": "e7acabe3-a995-4947-86fc-ea72232ce8d8",
   "metadata": {},
   "outputs": [],
   "source": [
    "from google.cloud import bigquery, storage\n",
    "from pyarrow import *"
   ]
  },
  {
   "cell_type": "code",
   "execution_count": null,
   "id": "9975736a-a6e9-4f1e-b5a1-95ff1269cae0",
   "metadata": {},
   "outputs": [],
   "source": [
    "%%bigquery  \n",
    "CREATE OR REPLACE VIEW ons-fintrans-analysis-prod.fin_wip_notebook.test_mcc_sum AS \n",
    "SELECT * FROM `ons-fintrans-data-prod.fintrans_visa.spend_origin_and_channel` LIMIT 10;"
   ]
  },
  {
   "cell_type": "code",
   "execution_count": null,
   "id": "db2325ae-423d-4653-9120-8845d114d39c",
   "metadata": {},
   "outputs": [],
   "source": [
    "%%bigquery  \n",
    "CREATE OR REPLACE VIEW ons-fintrans-analysis-prod.fin_wip_notebook.test_mcc_sum AS \n",
    "SELECT mcc, SUM(spend) as sum_spend, SUM(transactions) as sum_transactions\n",
    "FROM `ons-fintrans-data-prod.fintrans_visa.spend_origin_and_channel`\n",
    "GROUP BY mcc;"
   ]
  },
  {
   "cell_type": "code",
   "execution_count": null,
   "id": "d7289800-ee98-41c7-820f-82e6c3d17275",
   "metadata": {},
   "outputs": [],
   "source": []
  }
 ],
 "metadata": {
  "environment": {
   "kernel": "python3",
   "name": "r-cpu.4-2.m102",
   "type": "gcloud",
   "uri": "gcr.io/deeplearning-platform-release/r-cpu.4-2:m102"
  },
  "language_info": {
   "codemirror_mode": {
    "name": "ipython",
    "version": 3
   },
   "file_extension": ".py",
   "mimetype": "text/x-python",
   "name": "python",
   "nbconvert_exporter": "python",
   "pygments_lexer": "ipython3",
   "version": "3.7.12"
  }
 },
 "nbformat": 4,
 "nbformat_minor": 5
}
