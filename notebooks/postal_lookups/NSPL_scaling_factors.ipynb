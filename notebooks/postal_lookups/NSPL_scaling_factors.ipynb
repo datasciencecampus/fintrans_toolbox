{
 "cells": [
  {
   "cell_type": "markdown",
   "id": "ea0b94a5-261a-491d-9910-a1a5874868b1",
   "metadata": {},
   "source": [
    "<h1>Creating Geography lookup tables</h1>\n",
    "\n",
    "This file creates a postcode look up using NSPL.<br>\n",
    "This output can be be joined to tables read in using area/district/sector. <br>\n",
    "Where a postcode crosses regional boundries a sclaing factor is applied. \n",
    "This is to be used when calculating the number of cardholders, spend etc."
   ]
  },
  {
   "cell_type": "code",
   "execution_count": null,
   "id": "7d6984b6-048c-42ce-850a-bfd4268b01cb",
   "metadata": {},
   "outputs": [],
   "source": [
    "project_path = \"/home/jupyter\"\n",
    "import sys\n",
    "sys.path.append(project_path)\n",
    "\n",
    "import numpy as np\n",
    "import pandas as pd\n",
    "\n",
    "from fintrans_toolbox.src import bq_utils as bq\n",
    "from fintrans_toolbox.src import table_utils as t\n",
    "from google.cloud import bigquery"
   ]
  },
  {
   "cell_type": "code",
   "execution_count": null,
   "id": "249c179c-28ae-428d-bd37-94a643c09132",
   "metadata": {},
   "outputs": [],
   "source": [
    "client = bigquery.Client()"
   ]
  },
  {
   "cell_type": "code",
   "execution_count": null,
   "id": "4178bcec-a417-442c-b658-6348d3e42c55",
   "metadata": {},
   "outputs": [],
   "source": [
    "sql_nspl = \"\"\"SELECT *\n",
    "FROM ons-fintrans-analysis-prod.fin_wip_notebook.nspl_postal_level_lookup\"\"\"\n",
    "\n",
    "df_nspl = bq.read_bq_table_sql(client, sql_nspl)"
   ]
  },
  {
   "cell_type": "code",
   "execution_count": null,
   "id": "1101a266-3f80-48c7-ac3b-355af168ea11",
   "metadata": {},
   "outputs": [],
   "source": [
    "#POSTAL AREA\n",
    "df_postal_area = df_nspl[['pcds','postal_area','region', 'country']].groupby(['postal_area', 'country','region'],as_index=False).count().reset_index()\n",
    "df_postal_area['area_sf'] = df_postal_area['pcds'] / df_postal_area.groupby('postal_area')['pcds'].transform('sum')\n",
    "df_postal_area = df_postal_area[['postal_area', 'area_sf', 'region', 'country']]"
   ]
  },
  {
   "cell_type": "code",
   "execution_count": null,
   "id": "b4c160ae-5361-449c-9af0-95c42dc777d5",
   "metadata": {},
   "outputs": [],
   "source": [
    "#POSTAL DISTRICT\n",
    "df_postal_district = df_nspl[['pcds','postal_district','region', 'country']].groupby(['postal_district', 'country','region'],as_index=False).count().reset_index()\n",
    "df_postal_district['district_sf'] = df_postal_district['pcds'] / df_postal_district.groupby('postal_district')['pcds'].transform('sum')\n",
    "df_postal_district = df_postal_district[['postal_district', 'district_sf', 'region', 'country']]"
   ]
  },
  {
   "cell_type": "code",
   "execution_count": null,
   "id": "97b5a878-04f1-429d-9986-b931ac61a76d",
   "metadata": {},
   "outputs": [],
   "source": [
    "#POSTAL SECTOR\n",
    "df_postal_sector = df_nspl[['pcds','postal_sector','region', 'country']].groupby(['postal_sector', 'country','region'],as_index=False).count().reset_index()\n",
    "df_postal_sector['sector_sf'] = df_postal_sector['pcds'] / df_postal_sector.groupby('postal_sector')['pcds'].transform('sum')\n",
    "df_postal_sector = df_postal_sector[['postal_sector', 'sector_sf', 'region', 'country']]"
   ]
  },
  {
   "cell_type": "code",
   "execution_count": null,
   "id": "b57e1828-7f37-4dd3-8d48-564bc95fb969",
   "metadata": {},
   "outputs": [],
   "source": [
    "#ALL\n",
    "df_postal_all = df_nspl[['postal_area','postal_district', 'postal_sector', 'region', 'country']]\n",
    "df_postal_all = df_postal_all[df_postal_all['region'].notna()]\n",
    "df_postal_all = df_postal_all.drop_duplicates()\n",
    "df_postal_all = pd.merge(df_postal_all, df_postal_area, how=\"left\", on=['postal_area', 'region', 'country'])\n",
    "df_postal_all = pd.merge(df_postal_all, df_postal_district, how=\"left\", on=['postal_district', 'region', 'country'])\n",
    "df_postal_all = pd.merge(df_postal_all, df_postal_sector, how=\"left\", on=['postal_sector', 'region', 'country'])"
   ]
  },
  {
   "cell_type": "code",
   "execution_count": null,
   "id": "451acbeb-f9a4-4b58-b56f-4278f1e3f103",
   "metadata": {},
   "outputs": [],
   "source": [
    "#df_postal_all.to_csv(\"~/fintrans_toolbox/data/NSPL_location_level_lookup.csv\", index=False)"
   ]
  },
  {
   "cell_type": "code",
   "execution_count": null,
   "id": "25db432e-298a-47b3-a71c-3ad381e2dcbe",
   "metadata": {},
   "outputs": [],
   "source": [
    "#saves dataframe as big query table\n",
    "#to replace dataframe, change if_exists = 'replace'\n",
    "df_postal_all.to_gbq('ons-fintrans-analysis-prod.fin_wip_notebook.nspl_postal_level_scaling_factors', project_id=None, chunksize=None, reauth=False, \n",
    "                 if_exists='replace', auth_local_webserver=True, table_schema=None, \n",
    "                 location=None, progress_bar=True, credentials=None)"
   ]
  }
 ],
 "metadata": {
  "environment": {
   "kernel": "python3",
   "name": "r-cpu.4-2.m107",
   "type": "gcloud",
   "uri": "gcr.io/deeplearning-platform-release/r-cpu.4-2:m107"
  },
  "language_info": {
   "codemirror_mode": {
    "name": "ipython",
    "version": 3
   },
   "file_extension": ".py",
   "mimetype": "text/x-python",
   "name": "python",
   "nbconvert_exporter": "python",
   "pygments_lexer": "ipython3",
   "version": "3.7.12"
  }
 },
 "nbformat": 4,
 "nbformat_minor": 5
}
