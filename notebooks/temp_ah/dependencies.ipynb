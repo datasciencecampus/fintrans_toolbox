{
 "cells": [
  {
   "cell_type": "code",
   "execution_count": null,
   "id": "35701bc5-cc59-4a49-8a66-c50a793581bd",
   "metadata": {},
   "outputs": [],
   "source": [
    "# run and add packages / dependencies as needed\n",
    "required_packages < -c(\"data.table\", \"ggplot2\")\n",
    "install.packages(required_packages)"
   ]
  },
  {
   "cell_type": "code",
   "execution_count": null,
   "id": "f00ea691-7980-40d8-a6a7-6d283b9be4ff",
   "metadata": {
    "tags": []
   },
   "outputs": [],
   "source": [
    "# restart the kernal to ensure packages are available\n",
    "library(data.table)\n",
    "library(ggplot2)"
   ]
  },
  {
   "cell_type": "code",
   "execution_count": null,
   "id": "3990cc07-be01-41a9-98cd-4d9e52013018",
   "metadata": {},
   "outputs": [],
   "source": []
  }
 ],
 "metadata": {
  "environment": {
   "kernel": "ir",
   "name": "r-cpu.4-2.m102",
   "type": "gcloud",
   "uri": "gcr.io/deeplearning-platform-release/r-cpu.4-2:m102"
  },
  "language_info": {
   "codemirror_mode": "r",
   "file_extension": ".r",
   "mimetype": "text/x-r-source",
   "name": "R",
   "pygments_lexer": "r",
   "version": "4.2.2"
  }
 },
 "nbformat": 4,
 "nbformat_minor": 5
}
