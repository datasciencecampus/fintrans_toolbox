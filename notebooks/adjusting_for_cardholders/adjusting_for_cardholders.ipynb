{
 "cells": [
  {
   "cell_type": "markdown",
   "id": "3ae908ae-868e-415c-8ede-962f0f0e3ddc",
   "metadata": {},
   "source": [
    "# Adjusting for cardholders\n",
    "\n",
    "The method created so far is to have an adjustment table for each table and then this is read in and joined to the table that you are working with allowing you to create an adjusted spend/transcations value.\n",
    "\n",
    "Further development will be required to see if we want to use one adjustment table or if we keep having seperate adjustment tables for each table. Moreover, how do we deal with different specifications, and the drop in cardholders over covid. These tables will have to be amended. \n",
    "\n",
    "The adjustment tables will be stored in fin_wip_notebook and read in accordingly. \n"
   ]
  },
  {
   "cell_type": "code",
   "execution_count": null,
   "id": "d56cde59-40ff-4024-95db-77a21ebd635e",
   "metadata": {},
   "outputs": [],
   "source": [
    "project_path = \"/home/jupyter\"\n",
    "import sys\n",
    "\n",
    "sys.path.append(project_path)\n",
    "import matplotlib.pyplot as plt\n",
    "import numpy as np\n",
    "import pandas as pd\n",
    "import seaborn as sns\n",
    "from google.cloud import bigquery\n",
    "\n",
    "from fintrans_toolbox.src import bq_utils as bq\n",
    "from fintrans_toolbox.src import table_utils as t\n",
    "from fintrans_toolbox.src import adjustments as adj"
   ]
  },
  {
   "cell_type": "code",
   "execution_count": null,
   "id": "694c2d6e-8ac0-4398-b009-b05819997401",
   "metadata": {},
   "outputs": [],
   "source": [
    "client = bigquery.Client()\n",
    "import importlib\n",
    "importlib.reload(adj)\n"
   ]
  },
  {
   "cell_type": "code",
   "execution_count": null,
   "id": "4d74c516-43f6-44b6-a5c9-9b392a7893db",
   "metadata": {},
   "outputs": [],
   "source": [
    "# We first need to create our adjustment tables that we will bring in every time we want to create an adjusted value\n",
    "# we do one for each table and each month/quarter then join on the date\n",
    "\n",
    "# THE ADJUSTMENT TABLES will have to be amendended as they don't account for"
   ]
  },
  {
   "cell_type": "code",
   "execution_count": null,
   "id": "ec6717e9-cdb0-4f3f-835d-afcf52061761",
   "metadata": {},
   "outputs": [],
   "source": [
    "#test adjust rphst\n",
    "df = t.read_retail_performance_high_streets_towns(\n",
    "    client,\n",
    "    time_period=\"Month\",\n",
    "    cardholder_location_level=\"POSTAL_AREA\",\n",
    "    merchant_location_level=\"All\",\n",
    "    mcg=\"All\",\n",
    "    cardholder_location=\"\",\n",
    "    merchant_location=\"\",\n",
    ")\n",
    "\n",
    "df2 = adj.adjusted_rphst(df, \"Month\")\n",
    "df2\n"
   ]
  },
  {
   "cell_type": "code",
   "execution_count": null,
   "id": "ac93307c-0254-40e2-a230-4b7996fbb0aa",
   "metadata": {},
   "outputs": [],
   "source": [
    "#Graph actual and adjusted spend\n",
    "df3 = df2.loc[df2.cardholder_location == \"LD\"]\n",
    "plt.plot(df3[\"date_time\"],df3[\"spend\"])\n",
    "plt.plot(df3[\"date_time\"], df3[\"idx_spend\"])\n",
    "plt.legend(loc='best')\n",
    "plt.show()"
   ]
  },
  {
   "cell_type": "code",
   "execution_count": null,
   "id": "d4168899-4998-402f-899d-0caf913f0213",
   "metadata": {},
   "outputs": [],
   "source": [
    "# Test SPOC\n",
    "sql = \"SELECT * FROM `ons-fintrans-data-prod.fintrans_visa.spend_origin_and_channel` limit 500000 \"\n",
    "df = bq.read_bq_table_sql(client, sql)\n",
    "client = bigquery.Client()"
   ]
  },
  {
   "cell_type": "code",
   "execution_count": null,
   "id": "0c6d5343-44b8-4cfe-a8d8-ee4853d11de7",
   "metadata": {},
   "outputs": [],
   "source": [
    "# Two choices: Either specify cardholder origin parameter or keep the \"cardholder_origin\", \"cardholder_origin_country\" columns\n",
    "df = df.loc[df.cardholder_origin == \"UNITED KINGDOM\"]\n",
    "df1 = df.drop(columns =[\"cardholder_origin\", \"cardholder_origin_country\"])\n",
    "\n",
    "df2 = adj.adjusted_spoc(df1,cardholder_origin = \"UNITED KINGDOM\" )\n",
    "df2"
   ]
  },
  {
   "cell_type": "code",
   "execution_count": null,
   "id": "422492cf-7619-450f-846c-454628634321",
   "metadata": {},
   "outputs": [],
   "source": [
    "# Two choices: Either specify cardholder origin parameter or keep the \"cardholder_origin\", \"cardholder_origin_country\" columns\n",
    "df = df.loc[df.cardholder_origin == \"UNITED KINGDOM\"]\n",
    "\n",
    "df3 = adj.adjusted_spoc(df)\n",
    "df3"
   ]
  },
  {
   "cell_type": "code",
   "execution_count": null,
   "id": "aaf95cef-ba21-4d06-9df4-5f79d11c87bf",
   "metadata": {},
   "outputs": [],
   "source": [
    "# Test SML\n",
    "sql = \"SELECT * FROM `ons-fintrans-data-prod.fintrans_visa.spend_merchant_location` limit 10000\"\n",
    "client = bigquery.Client()\n",
    "df = bq.read_bq_table_sql(client, sql)"
   ]
  },
  {
   "cell_type": "code",
   "execution_count": null,
   "id": "4df96877-c65d-4566-a3d3-ebf690e9bda1",
   "metadata": {},
   "outputs": [],
   "source": [
    "df_adj = adjusted_sml(df) \n",
    "df_adj"
   ]
  }
 ],
 "metadata": {
  "environment": {
   "kernel": "python3",
   "name": "r-cpu.4-2.m108",
   "type": "gcloud",
   "uri": "gcr.io/deeplearning-platform-release/r-cpu.4-2:m108"
  },
  "language_info": {
   "codemirror_mode": {
    "name": "ipython",
    "version": 3
   },
   "file_extension": ".py",
   "mimetype": "text/x-python",
   "name": "python",
   "nbconvert_exporter": "python",
   "pygments_lexer": "ipython3",
   "version": "3.7.12"
  }
 },
 "nbformat": 4,
 "nbformat_minor": 5
}
