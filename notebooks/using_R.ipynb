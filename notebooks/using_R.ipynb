{
 "cells": [
  {
   "cell_type": "markdown",
   "id": "5ef7c7e3-15d1-4de7-91ce-d20058859f9e",
   "metadata": {},
   "source": [
    "# An example file on how to use R within jupyter notebooks\n",
    "- we first look at importing functions, then how to operate with bigquery"
   ]
  },
  {
   "cell_type": "code",
   "execution_count": null,
   "id": "30fa7dc8-d275-4cb7-bdae-cbfb64407aca",
   "metadata": {},
   "outputs": [],
   "source": [
    "getwd()\n",
    "#this will just show you what directory you are in"
   ]
  },
  {
   "cell_type": "code",
   "execution_count": null,
   "id": "fa9fbfb5-0d60-4765-8314-c10cfd2f4ce4",
   "metadata": {},
   "outputs": [],
   "source": [
    "# These are the packages you need to install to get pre commits to work... should only need to be done once...\n",
    "install.packages('docopt')\n",
    "install.packages('git2r')\n",
    "install.packages('styler')"
   ]
  },
  {
   "cell_type": "code",
   "execution_count": null,
   "id": "61ce80a5-6597-4d7b-8c68-737633370ef4",
   "metadata": {},
   "outputs": [],
   "source": [
    "#if you are importing functions into a file outside of fintrans_toolbox you will have to import like this\n",
    "source('~/fintrans_toolbox/src/example_R_functions.r')\n"
   ]
  },
  {
   "cell_type": "code",
   "execution_count": null,
   "id": "e419e7f9-e297-4939-80ba-b44f2caf4969",
   "metadata": {},
   "outputs": [],
   "source": [
    "#example of how to use the function from example_R_functions.R\n",
    "print_x('boo')"
   ]
  },
  {
   "cell_type": "code",
   "execution_count": null,
   "id": "db96e514-4400-4b28-8711-28e86b383c85",
   "metadata": {},
   "outputs": [],
   "source": [
    "#example loading in a package\n",
    "library(data.table) "
   ]
  },
  {
   "cell_type": "code",
   "execution_count": null,
   "id": "460ac27a-b446-49ef-bf2c-adc99b461b07",
   "metadata": {},
   "outputs": [],
   "source": [
    "import pandas as pd  # this doesnt work cos its python."
   ]
  },
  {
   "cell_type": "code",
   "execution_count": null,
   "id": "a9b40753-09c3-4792-8cee-0619f418429e",
   "metadata": {},
   "outputs": [],
   "source": [
    "# hello hello hello hello hello hello more than 88 characters what happpens hellloooooooooooooooooooooooooooooo"
   ]
  },
  {
   "cell_type": "code",
   "execution_count": null,
   "id": "84dff441-becb-4c5c-9c2a-283ab817c05d",
   "metadata": {},
   "outputs": [],
   "source": [
    "library(bigrquery)\n",
    "library(bigQueryR)\n",
    "library(dplyr)"
   ]
  },
  {
   "cell_type": "markdown",
   "id": "b96c01aa-24eb-4dff-be76-e95aaffb9e35",
   "metadata": {},
   "source": [
    "https://www.infoworld.com/article/3622926/how-to-use-r-with-bigquery.html\n",
    "\n",
    "This document is the most helpful with how to use R with big query. "
   ]
  },
  {
   "cell_type": "code",
   "execution_count": null,
   "id": "77448c99-98df-421c-879f-5e7fd8265fc9",
   "metadata": {},
   "outputs": [],
   "source": [
    "library(bigrquery)"
   ]
  },
  {
   "cell_type": "code",
   "execution_count": null,
   "id": "695d86e0-8864-4ba1-bc83-59117d4fd9f1",
   "metadata": {},
   "outputs": [],
   "source": [
    "con <- dbConnect(\n",
    "    bigquery(),\n",
    "    project = 'ons-fintrans-data-prod',\n",
    "    dataset = 'fintrans_visa'\n",
    "    )"
   ]
  },
  {
   "cell_type": "code",
   "execution_count": null,
   "id": "ddbff086-592a-4a3c-8d7d-d2538ca1a211",
   "metadata": {},
   "outputs": [],
   "source": [
    "dbListTables(con)"
   ]
  },
  {
   "cell_type": "code",
   "execution_count": null,
   "id": "7facf6d9-fa14-4c45-990a-bbfd67d61788",
   "metadata": {},
   "outputs": [],
   "source": [
    "con1 <- dbConnect(\n",
    "    bigquery(),\n",
    "    project = 'ons-fintrans-analysis-prod',\n",
    "    dataset = 'fin_wip_notebook'\n",
    "    )"
   ]
  },
  {
   "cell_type": "code",
   "execution_count": null,
   "id": "c2a3f9b7-2128-4e07-826f-359fc800e87a",
   "metadata": {},
   "outputs": [],
   "source": [
    "dbListTables(con1)"
   ]
  },
  {
   "cell_type": "code",
   "execution_count": null,
   "id": "6f20eace-79dc-439c-9ea8-4aef9f3c79bc",
   "metadata": {},
   "outputs": [],
   "source": [
    "sml <- tbl(con1, \"sml_cardholders_q\")"
   ]
  },
  {
   "cell_type": "code",
   "execution_count": null,
   "id": "6d06f163-b402-40da-adc9-954db2055441",
   "metadata": {},
   "outputs": [],
   "source": [
    "str(sml)"
   ]
  },
  {
   "cell_type": "code",
   "execution_count": null,
   "id": "2dcc20ef-7761-48bd-83db-7cc34ed2dee2",
   "metadata": {},
   "outputs": [],
   "source": [
    "glimpse(sml)"
   ]
  },
  {
   "cell_type": "code",
   "execution_count": null,
   "id": "05f1862c-9de7-4fc5-b063-73504908e694",
   "metadata": {},
   "outputs": [],
   "source": [
    "df <- select(sml, date_time) %>% distinct() %>% collect()\n",
    "\n",
    "# need to add collect to view things"
   ]
  },
  {
   "cell_type": "code",
   "execution_count": null,
   "id": "c5eb6b5e-1cc6-43fe-a31a-3fe8d35b221e",
   "metadata": {},
   "outputs": [],
   "source": [
    "df"
   ]
  },
  {
   "cell_type": "code",
   "execution_count": null,
   "id": "d1d60291-565d-4b9f-bbe3-9f412f6982ba",
   "metadata": {},
   "outputs": [],
   "source": [
    "select(sml, date_time) %>% distinct() %>% show_query()"
   ]
  },
  {
   "cell_type": "code",
   "execution_count": null,
   "id": "4cb5ad31-4170-42b2-b014-fb215d1228c3",
   "metadata": {},
   "outputs": [],
   "source": [
    "con <- dbConnect(\n",
    "    bigquery(),\n",
    "    project = 'ons-fintrans-analysis-prod',\n",
    "    dataset = 'fintrans_visa'\n",
    "    )\n",
    "\n",
    "# Note, we keep the project as 'ons-fintrans-analysis-prod' not 'ons-fintrans-data-prod' even when doing SQLs like the one below\n",
    "# where we retrieve data from 'ons-fintrans-data-prod'"
   ]
  },
  {
   "cell_type": "code",
   "execution_count": null,
   "id": "3018e730-a137-4b9b-beff-44cf51c133b4",
   "metadata": {},
   "outputs": [],
   "source": [
    "# or running SQL From within R\n",
    "sql <- \"SELECT * FROM ons-fintrans-data-prod.fintrans_visa.spend_merchant_location LIMIT 10\"\n",
    "library(DBI)\n",
    "my_results <- dbGetQuery(con, sql)"
   ]
  },
  {
   "cell_type": "code",
   "execution_count": null,
   "id": "c5f6e5a7-17f1-4970-9d4e-0b4a8553a4a5",
   "metadata": {},
   "outputs": [],
   "source": [
    "my_results"
   ]
  }
 ],
 "metadata": {
  "environment": {
   "kernel": "ir",
   "name": "r-cpu.4-2.m102",
   "type": "gcloud",
   "uri": "gcr.io/deeplearning-platform-release/r-cpu.4-2:m102"
  },
  "language_info": {
   "codemirror_mode": "r",
   "file_extension": ".r",
   "mimetype": "text/x-r-source",
   "name": "R",
   "pygments_lexer": "r",
   "version": "4.2.2"
  }
 },
 "nbformat": 4,
 "nbformat_minor": 5
}
