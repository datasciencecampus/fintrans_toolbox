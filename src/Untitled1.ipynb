{
 "cells": [
  {
   "cell_type": "code",
   "execution_count": null,
   "id": "8e35317a-c0fa-4705-a7cf-cf5c1bae86f2",
   "metadata": {},
   "outputs": [],
   "source": [
    "install.packages(\"bigrquery\")\n",
    "install.packages(\"dplyr\")\n",
    "install.packages(\"geosphere\")\n",
    "install.packages(\"data.table\")\n",
    "install.packages(\"DBI\")\n",
    "install.packages(\"magrittr\")\n",
    "\n"
   ]
  },
  {
   "cell_type": "code",
   "execution_count": null,
   "id": "8976c3d8-6fb7-4677-a9e4-8fcd1da88404",
   "metadata": {},
   "outputs": [],
   "source": [
    "install.packages(\"lintr\")\n",
    "install.packages(\"styler\")\n",
    "install.packages(\"git2r\")"
   ]
  }
 ],
 "metadata": {
  "environment": {
   "kernel": "ir",
   "name": "r-cpu.4-2.m102",
   "type": "gcloud",
   "uri": "gcr.io/deeplearning-platform-release/r-cpu.4-2:m102"
  },
  "language_info": {
   "codemirror_mode": "r",
   "file_extension": ".r",
   "mimetype": "text/x-r-source",
   "name": "R",
   "pygments_lexer": "r",
   "version": "4.2.2"
  }
 },
 "nbformat": 4,
 "nbformat_minor": 5
}
