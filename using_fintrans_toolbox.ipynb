{
 "cells": [
  {
   "cell_type": "code",
   "execution_count": null,
   "id": "6c9bf15e-0c7d-4442-a133-4930261e1a5d",
   "metadata": {},
   "outputs": [],
   "source": [
    "project_path = \"/home/jupyter\"\n",
    "import sys\n",
    "\n",
    "sys.path.append(project_path)\n",
    "\n",
    "# If you ever change or add to a file you have imported you will have to\n",
    "# reload it rather than just running the lines of code above as otherwise\n",
    "# it wont actually re import the code.\n",
    "import importlib\n",
    "\n",
    "# from fintrans toolbox\n",
    "from fintrans_toolbox.src.utils import bq_utils as bq\n",
    "from fintrans_toolbox.src.utils import table_utils as t\n",
    "\n",
    "importlib.reload(bq)\n",
    "importlib.reload(t)\n",
    "\n",
    "\n",
    "# python modules\n",
    "import matplotlib.pyplot as plt\n",
    "import numpy as np\n",
    "import pandas as pd\n",
    "import seaborn as sns\n",
    "from google.cloud import bigquery"
   ]
  },
  {
   "cell_type": "code",
   "execution_count": null,
   "id": "85392a75-827c-486e-9f38-c411ff79a583",
   "metadata": {},
   "outputs": [],
   "source": [
    "# Always construct a client object after you have imported your modules so you can interact with BigQuery - this is used\n",
    "# as an input into a lot of the functions.\n",
    "client = bigquery.Client()"
   ]
  },
  {
   "cell_type": "code",
   "execution_count": null,
   "id": "9b3992f2-17ad-422e-a74f-3666a6477d46",
   "metadata": {},
   "outputs": [],
   "source": [
    "# First inspecting bq_utils.py imported as bq\n",
    "dir(bq)"
   ]
  },
  {
   "cell_type": "code",
   "execution_count": null,
   "id": "2d1d14f0-6e9a-4ec7-b4c8-66803670277e",
   "metadata": {},
   "outputs": [],
   "source": [
    "help(bq.list_bq_datasets)\n",
    "\n",
    "print(\"..............................\")\n",
    "\n",
    "bq.list_bq_datasets(client)"
   ]
  },
  {
   "cell_type": "code",
   "execution_count": null,
   "id": "d17d880e-5e1c-444e-ba52-4633f561a4bd",
   "metadata": {},
   "outputs": [],
   "source": [
    "help(bq.list_bq_tables)\n",
    "\n",
    "print(\"..............................\")\n",
    "\n",
    "bq.list_bq_tables(client, \"ons-fintrans-analysis-prod.fin_wip_notebook\")\n",
    "\n",
    "print(\"..............................\")\n",
    "\n",
    "bq.list_bq_tables(client, \"ons-fintrans-data-prod.fintrans_visa\")"
   ]
  },
  {
   "cell_type": "code",
   "execution_count": null,
   "id": "7546275d-8448-4285-b688-2d4c3e147071",
   "metadata": {},
   "outputs": [],
   "source": [
    "help(bq.read_full_bq_table)\n",
    "\n",
    "print(\"...................................\")\n",
    "\n",
    "\n",
    "df = bq.read_full_bq_table(\n",
    "    client, \"ons-fintrans-analysis-prod.fin_wip_notebook.spoc_sums\"\n",
    ")\n",
    "\n",
    "df"
   ]
  },
  {
   "cell_type": "code",
   "execution_count": null,
   "id": "af21bd58-c3dc-4f97-83ce-4b9812cad881",
   "metadata": {},
   "outputs": [],
   "source": [
    "help(bq.read_bq_table_sql)\n",
    "\n",
    "print(\"...................................\")\n",
    "\n",
    "\n",
    "df = bq.read_bq_table_sql(\n",
    "    client,\n",
    "    \"SELECT * FROM ons-fintrans-data-prod.fintrans_visa.spend_merchant_location LIMIT 10\",\n",
    ")\n",
    "\n",
    "df"
   ]
  },
  {
   "cell_type": "code",
   "execution_count": null,
   "id": "720c6c97-5a87-4110-ba60-0f67f1615ed8",
   "metadata": {},
   "outputs": [],
   "source": [
    "help(bq.delete_table)"
   ]
  },
  {
   "cell_type": "code",
   "execution_count": null,
   "id": "7c3168d8-3641-4025-a415-842a8fe1ddd1",
   "metadata": {},
   "outputs": [],
   "source": [
    "bq.delete_table(client, \"ons-fintrans-analysis-prod.fin_wip_notebook.yoy_spoc\")"
   ]
  },
  {
   "cell_type": "markdown",
   "id": "ad533244-08eb-40c6-828c-cfacc789783c",
   "metadata": {},
   "source": [
    "______________________________________________________________________________________________________"
   ]
  },
  {
   "cell_type": "code",
   "execution_count": null,
   "id": "a721475f-0841-409c-a12d-50274109bf5f",
   "metadata": {},
   "outputs": [],
   "source": [
    "# Now First inspecting table_utils.py imported as t\n",
    "dir(t)"
   ]
  },
  {
   "cell_type": "code",
   "execution_count": null,
   "id": "e482103a-4dc4-4451-a7a9-5f9ecddbb9cb",
   "metadata": {},
   "outputs": [],
   "source": [
    "help(t.read_retail_performance_high_streets_towns)"
   ]
  },
  {
   "cell_type": "code",
   "execution_count": null,
   "id": "5856d58d-bcdf-4461-b01f-86698f7c0c56",
   "metadata": {},
   "outputs": [],
   "source": [
    "df = t.read_retail_performance_high_streets_towns(client)\n",
    "df"
   ]
  },
  {
   "cell_type": "code",
   "execution_count": null,
   "id": "2daa083e-780b-4a0b-84c6-874f432d5ab6",
   "metadata": {},
   "outputs": [],
   "source": [
    "df = t.read_retail_performance_high_streets_towns(\n",
    "    client, merchant_location=\" 'SW2', 'SE4' \", time_period=\"Month\", mcg=\"\"\n",
    ")\n",
    "df"
   ]
  },
  {
   "cell_type": "code",
   "execution_count": null,
   "id": "e2f8e6b9-57ee-4956-b73f-a79bddbfc9fa",
   "metadata": {},
   "outputs": [],
   "source": [
    "help(t.read_spend_merchant_location)"
   ]
  },
  {
   "cell_type": "code",
   "execution_count": null,
   "id": "6868bae0-deaf-4c66-9d81-a184e38ab725",
   "metadata": {},
   "outputs": [],
   "source": [
    "help(t.read_spend_origin_and_channel)"
   ]
  },
  {
   "cell_type": "code",
   "execution_count": null,
   "id": "f3e3224f-63e8-40d3-81b9-02c2e5b07d86",
   "metadata": {},
   "outputs": [],
   "source": [
    "help(t.get_cat_vars)"
   ]
  },
  {
   "cell_type": "code",
   "execution_count": null,
   "id": "f292a568-58fe-47ba-93e5-7ec328acde41",
   "metadata": {},
   "outputs": [],
   "source": [
    "t.get_cat_vars(\"spend_merchant_location\")"
   ]
  },
  {
   "cell_type": "code",
   "execution_count": null,
   "id": "ca1b4bd7-bb8e-4272-93fd-647a87a8d0cb",
   "metadata": {},
   "outputs": [],
   "source": [
    "help(t.create_XoX_growth)"
   ]
  },
  {
   "cell_type": "code",
   "execution_count": null,
   "id": "1512bb19-9ed8-4985-bf85-62391f6b6465",
   "metadata": {},
   "outputs": [],
   "source": [
    "df = t.read_retail_performance_high_streets_towns(client, time_period=\"Month\")\n",
    "\n",
    "df = t.create_XoX_growth(df, \"Month\", \"YoY\", t.get_cat_vars(\"rphst\"), \"spend\")\n",
    "\n",
    "df"
   ]
  },
  {
   "cell_type": "code",
   "execution_count": null,
   "id": "3c3389fd-22f9-4c9e-84e5-801a4bb4f3a4",
   "metadata": {},
   "outputs": [],
   "source": [
    "df = t.create_XoX_growth(df, \"Month\", \"MoM\", t.get_cat_vars(\"rphst\"), \"spend\")\n",
    "df"
   ]
  },
  {
   "cell_type": "code",
   "execution_count": null,
   "id": "c03c0f6f-be31-44f9-b604-2d41bd2eb1e0",
   "metadata": {},
   "outputs": [],
   "source": [
    "help(t.create_index)"
   ]
  },
  {
   "cell_type": "code",
   "execution_count": null,
   "id": "f57944d4-b27b-4652-82e8-083c6edc7633",
   "metadata": {},
   "outputs": [],
   "source": [
    "df = t.create_index(df, \"spend\", t.get_cat_vars(\"rphst\"))\n",
    "\n",
    "df"
   ]
  },
  {
   "cell_type": "code",
   "execution_count": null,
   "id": "29f5bbf7-4847-47ac-a0ae-1cf9f9527385",
   "metadata": {},
   "outputs": [],
   "source": [
    "help(t.create_date_time)"
   ]
  },
  {
   "cell_type": "code",
   "execution_count": null,
   "id": "0b897622-12f3-4d41-aef6-703261c8a831",
   "metadata": {},
   "outputs": [],
   "source": [
    "df = bq.read_bq_table_sql(\n",
    "    client,\n",
    "    \"SELECT * FROM ons-fintrans-data-prod.fintrans_visa.spend_merchant_location LIMIT 10\",\n",
    ")\n",
    "\n",
    "df"
   ]
  },
  {
   "cell_type": "code",
   "execution_count": null,
   "id": "2079019a-52ec-4af1-ae5d-ceafbc7487db",
   "metadata": {},
   "outputs": [],
   "source": [
    "df = t.create_date_time(df)\n",
    "df"
   ]
  }
 ],
 "metadata": {
  "environment": {
   "kernel": "python3",
   "name": "r-cpu.4-2.m102",
   "type": "gcloud",
   "uri": "gcr.io/deeplearning-platform-release/r-cpu.4-2:m102"
  },
  "language_info": {
   "codemirror_mode": {
    "name": "ipython",
    "version": 3
   },
   "file_extension": ".py",
   "mimetype": "text/x-python",
   "name": "python",
   "nbconvert_exporter": "python",
   "pygments_lexer": "ipython3",
   "version": "3.7.12"
  }
 },
 "nbformat": 4,
 "nbformat_minor": 5
}
