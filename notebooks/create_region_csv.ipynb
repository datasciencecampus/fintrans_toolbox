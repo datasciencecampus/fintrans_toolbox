{
 "cells": [
  {
   "cell_type": "code",
   "execution_count": null,
   "id": "12febd75-5ddd-45b2-94bc-eb3a8bf882f0",
   "metadata": {},
   "outputs": [],
   "source": [
    "#create fake data frame\n",
    "import pandas as pd\n",
    "d = {'destination_country':['France','Germany','Malaysia'], 'region':['Europe','Europe', 'Asia']}\n",
    "df = pd.DataFrame(data = d)\n",
    "\n",
    "df.to_csv('fintrans_toolbox/data/test_regions.csv')"
   ]
  }
 ],
 "metadata": {
  "environment": {
   "kernel": "python3",
   "name": "r-cpu.4-2.m102",
   "type": "gcloud",
   "uri": "gcr.io/deeplearning-platform-release/r-cpu.4-2:m102"
  },
  "language_info": {
   "codemirror_mode": {
    "name": "ipython",
    "version": 3
   },
   "file_extension": ".py",
   "mimetype": "text/x-python",
   "name": "python",
   "nbconvert_exporter": "python",
   "pygments_lexer": "ipython3",
   "version": "3.7.12"
  }
 },
 "nbformat": 4,
 "nbformat_minor": 5
}
