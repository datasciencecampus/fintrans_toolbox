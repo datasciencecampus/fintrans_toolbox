{
 "cells": [
  {
   "cell_type": "markdown",
   "id": "2aad21b3-1fdd-417b-9e33-eb27e418beba",
   "metadata": {},
   "source": [
    "# Boundary Files\n",
    "\n",
    "This script reads in boundary files from: ons-fintrans-data-prod-fintrans-reference-des-ingress\n",
    "The script saves all files needed to a specified location\n",
    "This is currently set to save postal district files"
   ]
  },
  {
   "cell_type": "code",
   "execution_count": null,
   "id": "1c116582-08df-4cc3-855c-e2d6ce5872da",
   "metadata": {},
   "outputs": [],
   "source": [
    "project_path = \"/home/jupyter\"\n",
    "import os\n",
    "import sys\n",
    "sys.path.append(project_path)\n",
    "from google.cloud import storage\n",
    "client = storage.Client()"
   ]
  },
  {
   "cell_type": "code",
   "execution_count": null,
   "id": "a46bb805-af3a-4303-b6cf-0244d13eb164",
   "metadata": {},
   "outputs": [],
   "source": [
    "#Change file path to output folder\n",
    "output_path = '' #example:'fintrans_visa_competition/outputs/boundaries/'\n",
    "#Change file name you want to read in\n",
    "file_name = 'postcode_district' #alternative 'postal_sector'"
   ]
  },
  {
   "cell_type": "code",
   "execution_count": null,
   "id": "e2945be5-9e5c-4e09-9126-28c3571e66ea",
   "metadata": {},
   "outputs": [],
   "source": [
    "#All files needed\n",
    "list_of_files = ['.cpg','.dbf','.prj','.qmd','.shp','.shx']"
   ]
  },
  {
   "cell_type": "code",
   "execution_count": null,
   "id": "f134f6fc-c50c-41cd-88e8-4caffe14d283",
   "metadata": {},
   "outputs": [],
   "source": [
    "bucket = client.get_bucket(\"ons-fintrans-data-prod-fintrans-reference-des-ingress\")"
   ]
  },
  {
   "cell_type": "code",
   "execution_count": null,
   "id": "d7680830-3c6d-497c-8978-a73e7c203cbe",
   "metadata": {},
   "outputs": [],
   "source": [
    "for i in list(list_of_files):\n",
    "    output_file = output_path + file_name + i\n",
    "    bucket_path = \"ons-des-prod-fintrans-reference-ingress/fintrans_reference/geodata/\" +  file_name +'/' + file_name + i\n",
    "    blob = bucket.blob(bucket_path)\n",
    "    blob.download_to_filename(output_file)"
   ]
  },
  {
   "cell_type": "code",
   "execution_count": null,
   "id": "d9c9c62c-8db0-424d-9edd-a71b7f53db40",
   "metadata": {},
   "outputs": [],
   "source": [
    "import geopandas as gpd\n",
    "shape=gpd.read_file('postcode_district.shp')\n",
    "shape.plot()"
   ]
  }
 ],
 "metadata": {
  "environment": {
   "kernel": "python3",
   "name": "r-cpu.4-2.m108",
   "type": "gcloud",
   "uri": "gcr.io/deeplearning-platform-release/r-cpu.4-2:m108"
  },
  "language_info": {
   "codemirror_mode": {
    "name": "ipython",
    "version": 3
   },
   "file_extension": ".py",
   "mimetype": "text/x-python",
   "name": "python",
   "nbconvert_exporter": "python",
   "pygments_lexer": "ipython3",
   "version": "3.7.12"
  }
 },
 "nbformat": 4,
 "nbformat_minor": 5
}
