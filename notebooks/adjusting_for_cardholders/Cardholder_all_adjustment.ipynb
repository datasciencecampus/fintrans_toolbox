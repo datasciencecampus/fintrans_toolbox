{
 "cells": [
  {
   "cell_type": "code",
   "execution_count": null,
   "id": "13c1999a-641d-41c6-9aca-ef9a2e1251f5",
   "metadata": {},
   "outputs": [],
   "source": [
    "project_path = \"/home/jupyter\"\n",
    "import os\n",
    "import sys\n",
    "sys.path.append(project_path)\n",
    "from google.cloud import bigquery\n",
    "from plotly import graph_objs as go\n",
    "\n",
    "import matplotlib.dates as mdates\n",
    "import matplotlib.pyplot as plt\n",
    "import matplotlib.dates as mdates\n",
    "from datetime import datetime\n",
    "import numpy as np\n",
    "import pandas as pd\n",
    "import seaborn as sns\n",
    "\n",
    "from fintrans_toolbox.src import adjustments as adj\n",
    "from fintrans_toolbox.src import bq_utils as bq\n",
    "from fintrans_toolbox.src import table_utils as t"
   ]
  },
  {
   "cell_type": "code",
   "execution_count": null,
   "id": "1d2fe717-81c7-436c-888a-d97b66c6cd04",
   "metadata": {},
   "outputs": [],
   "source": [
    "client = bigquery.Client()"
   ]
  },
  {
   "cell_type": "markdown",
   "id": "53a38608-45d6-4cd4-8a5a-0884be294ea9",
   "metadata": {},
   "source": [
    "# SPOC"
   ]
  },
  {
   "cell_type": "code",
   "execution_count": null,
   "id": "b31d99ad-c2ac-4076-985c-c0b4983204ee",
   "metadata": {},
   "outputs": [],
   "source": [
    "df = t.read_spend_origin_and_channel(client, time_period='Month', merchant_channel = 'Face to Face', \n",
    "                                     cardholder_origin = 'UNITED KINGDOM', destination_country = '\"UNITED KINGDOM\"')"
   ]
  },
  {
   "cell_type": "code",
   "execution_count": null,
   "id": "e68468c7-3c4f-4c20-b511-590c113256f3",
   "metadata": {},
   "outputs": [],
   "source": [
    "spoc_adj = adj.adjusted_all_spoc(df, time_period='Month', merchant_channel = \"Face to Face\")"
   ]
  },
  {
   "cell_type": "markdown",
   "id": "ce7dd5e2-6f59-4cf6-ac9a-d91e2b6954a0",
   "metadata": {},
   "source": [
    "# RPHST"
   ]
  },
  {
   "cell_type": "code",
   "execution_count": null,
   "id": "2eed36af-5ea4-4d1a-88fd-835d9ed2bf18",
   "metadata": {},
   "outputs": [],
   "source": [
    "df_rphst = t.read_retail_performance_high_streets_towns(client, time_period='Month')"
   ]
  },
  {
   "cell_type": "code",
   "execution_count": null,
   "id": "2eaa59e3-1395-4bf8-ba2f-3a17bcc9550f",
   "metadata": {},
   "outputs": [],
   "source": [
    "rphst_adj = adj.adjusted_all_rphst(df_rphst, time_period = \"Month\")"
   ]
  },
  {
   "cell_type": "markdown",
   "id": "5e8e6242-1f52-4f24-8008-90cbf925bbb1",
   "metadata": {},
   "source": [
    "# SML"
   ]
  },
  {
   "cell_type": "code",
   "execution_count": null,
   "id": "a64220c5-f233-4981-9c1c-7eb46b8affa0",
   "metadata": {},
   "outputs": [],
   "source": [
    "df_sml = t.read_spend_merchant_location(client, time_period='Month', cardholder_issuing_level ='Domestic')"
   ]
  },
  {
   "cell_type": "code",
   "execution_count": null,
   "id": "7ae3ea5e-b40e-4e6d-a649-52faf90edca6",
   "metadata": {},
   "outputs": [],
   "source": [
    "sml_adj = adj.adjusted_all_sml(df_sml, time_period = \"Month\", cardholder_issuing_level ='Domestic')"
   ]
  },
  {
   "cell_type": "markdown",
   "id": "0e0c2f43-c63a-4422-b219-03928761410b",
   "metadata": {},
   "source": [
    "# Comparison"
   ]
  },
  {
   "cell_type": "code",
   "execution_count": null,
   "id": "fc57b215-f0f8-4480-a91c-b260fc0cb6e8",
   "metadata": {},
   "outputs": [],
   "source": [
    "print(rphst_adj['spend'].sum() == df_rphst['spend'].sum())\n",
    "print(rphst_adj['transactions'].sum() == df_rphst['transactions'].sum())"
   ]
  },
  {
   "cell_type": "code",
   "execution_count": null,
   "id": "0ffbc65d-5fb3-4021-b916-0febd0bd08de",
   "metadata": {},
   "outputs": [],
   "source": [
    "print(rphst_adj['spend'].sum() == spoc_adj['spend'].sum())\n",
    "print(rphst_adj['transactions'].sum() == spoc_adj['transactions'].sum())"
   ]
  },
  {
   "cell_type": "code",
   "execution_count": null,
   "id": "1455a2cc-9a68-4c44-b606-c3e4ffb041a2",
   "metadata": {},
   "outputs": [],
   "source": [
    "print(sml_adj['spend'].sum() == sml_adj['spend'].sum())\n",
    "print(sml_adj['transactions'].sum() == sml_adj['transactions'].sum())"
   ]
  },
  {
   "cell_type": "code",
   "execution_count": null,
   "id": "88877154-4807-456d-bc0c-88261b612567",
   "metadata": {},
   "outputs": [],
   "source": [
    "print(rphst_adj['idx_spend'].sum() == spoc_adj['idx_spend'].sum() == sml_adj['idx_spend'].sum())\n",
    "print(rphst_adj['idx_transactions'].sum() == spoc_adj['idx_transactions'].sum()== sml_adj['idx_transactions'].sum())\n"
   ]
  },
  {
   "cell_type": "markdown",
   "id": "1c07f650-9135-4ca2-b72c-389c6de6e522",
   "metadata": {},
   "source": [
    "# Output"
   ]
  },
  {
   "cell_type": "code",
   "execution_count": null,
   "id": "5c988be2-f47b-428b-a9e8-30c2bdb375ae",
   "metadata": {},
   "outputs": [],
   "source": [
    "bq_output = spoc_adj[['date_time','index']]"
   ]
  },
  {
   "cell_type": "code",
   "execution_count": null,
   "id": "cb79c413-c79b-4e2b-aad2-cf42ad20de59",
   "metadata": {},
   "outputs": [],
   "source": [
    "#saves dataframe as big query table\n",
    "#to replace dataframe, change if_exists = 'replace'\n",
    "bq_output.to_gbq('ons-fintrans-analysis-prod.fin_wip_notebook.cardholder_adjustments_april2023', project_id=None, chunksize=None, reauth=False, \n",
    "                 if_exists='replace', auth_local_webserver=True, table_schema=None, \n",
    "                 location=None, progress_bar=True, credentials=None)"
   ]
  }
 ],
 "metadata": {
  "environment": {
   "kernel": "python3",
   "name": "r-cpu.4-2.m107",
   "type": "gcloud",
   "uri": "gcr.io/deeplearning-platform-release/r-cpu.4-2:m107"
  },
  "language_info": {
   "codemirror_mode": {
    "name": "ipython",
    "version": 3
   },
   "file_extension": ".py",
   "mimetype": "text/x-python",
   "name": "python",
   "nbconvert_exporter": "python",
   "pygments_lexer": "ipython3",
   "version": "3.7.12"
  }
 },
 "nbformat": 4,
 "nbformat_minor": 5
}
