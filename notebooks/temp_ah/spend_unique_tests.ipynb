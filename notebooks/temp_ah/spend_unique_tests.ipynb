{
 "cells": [
  {
   "cell_type": "code",
   "execution_count": null,
   "id": "c07d78f6-443b-4d95-ac0c-a9f8645f2b98",
   "metadata": {},
   "outputs": [],
   "source": [
    "# testing of spend merchant location data\n",
    "import pandas as pd\n",
    "from google.cloud import bigquery, storage\n",
    "from pyarrow import *"
   ]
  },
  {
   "cell_type": "code",
   "execution_count": null,
   "id": "8ef7e5cd-c90b-4402-b091-b594c0ffedd2",
   "metadata": {
    "jupyter": {
     "outputs_hidden": true
    },
    "tags": []
   },
   "outputs": [],
   "source": [
    "# summary stats of production file\n",
    "%bigquery_stats ons-fintrans-data-prod.fintrans_visa.spend_merchant_location"
   ]
  },
  {
   "cell_type": "code",
   "execution_count": null,
   "id": "43b95ebe-b450-4836-b1f2-3a1dfc41446c",
   "metadata": {
    "tags": []
   },
   "outputs": [],
   "source": [
    "%%bigquery  \n",
    "CREATE OR REPLACE VIEW ons-fintrans-analysis-prod.fin_wip_notebook.spend_merchant_location_unique_mcc_AH AS \n",
    "SELECT mcc, mcg, \n",
    "  SUM(spend) as sum_spend, \n",
    "  SUM(transactions) as sum_transactions, \n",
    "  SUM(cardholders) as sum_cardholders, \n",
    "  SUM(dist_merchants) as sum_dist_merchants, \n",
    "  AVG(pct_repeat_pan_cnt) as avg_pct_repeat_pan_cnt\n",
    "FROM ons-fintrans-data-prod.fintrans_visa.spend_merchant_location\n",
    "WHERE merchant_location_level = \"All\"  \n",
    "  AND cardholder_issuing_level = \"Domestic\"\n",
    "  AND time_period = \"Quarter\"\n",
    "  AND mcc <> \"All\"\n",
    "GROUP BY mcc, mcg; "
   ]
  },
  {
   "cell_type": "code",
   "execution_count": null,
   "id": "bb933b3e-7ec7-49c1-8c24-adb9b65c4a8b",
   "metadata": {
    "tags": []
   },
   "outputs": [],
   "source": [
    "%bigquery_stats ons-fintrans-analysis-prod.fin_wip_notebook.spend_merchant_location_unique_mcc_AH"
   ]
  },
  {
   "cell_type": "code",
   "execution_count": null,
   "id": "f62fed0f-1059-4386-963e-7c39557f9e41",
   "metadata": {},
   "outputs": [],
   "source": [
    "# read in derivative WIP file function\n",
    "def read_data_from_bigquery_to_df(sql):\n",
    "    \"\"\"\n",
    "    Gets data from BigQuery and saves to Pandas DataFrame\n",
    "\n",
    "    Args:\n",
    "       sql (str): the sql query to determine what data to return\n",
    "    Returns:\n",
    "       the query results in a Pandas dataframe , or None if error\n",
    "    \"\"\"\n",
    "    try:\n",
    "        client = bigquery.Client()\n",
    "        df = client.query(sql).to_dataframe()\n",
    "        return df\n",
    "    except Exception as e:\n",
    "        print(f\"Error getting data {e}\")\n",
    "        return None"
   ]
  },
  {
   "cell_type": "code",
   "execution_count": null,
   "id": "c6a18060-177a-4a6a-86be-ba1693c0a404",
   "metadata": {},
   "outputs": [],
   "source": [
    "# read in derivative WIP file\n",
    "unique_spend = read_data_from_bigquery_to_df(\n",
    "    \"SELECT * FROM ons-fintrans-analysis-prod.fin_wip_notebook.spend_merchant_location_unique_mcc_AH\"\n",
    ")"
   ]
  },
  {
   "cell_type": "code",
   "execution_count": null,
   "id": "e5b1a674-5802-484b-87fa-80bcfd38982e",
   "metadata": {},
   "outputs": [],
   "source": [
    "# summary stats\n",
    "unique_spend.sample(10)"
   ]
  },
  {
   "cell_type": "code",
   "execution_count": null,
   "id": "76b24b5d-a372-4cd1-a3ad-0e9d517c5ae9",
   "metadata": {},
   "outputs": [],
   "source": [
    "# tests"
   ]
  }
 ],
 "metadata": {
  "environment": {
   "kernel": "python3",
   "name": "r-cpu.4-2.m102",
   "type": "gcloud",
   "uri": "gcr.io/deeplearning-platform-release/r-cpu.4-2:m102"
  },
  "language_info": {
   "codemirror_mode": {
    "name": "ipython",
    "version": 3
   },
   "file_extension": ".py",
   "mimetype": "text/x-python",
   "name": "python",
   "nbconvert_exporter": "python",
   "pygments_lexer": "ipython3",
   "version": "3.7.12"
  }
 },
 "nbformat": 4,
 "nbformat_minor": 5
}
