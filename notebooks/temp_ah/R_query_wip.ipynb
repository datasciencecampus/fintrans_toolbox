{
 "cells": [
  {
   "cell_type": "code",
   "execution_count": null,
   "id": "d6e01931-f8a0-48bf-b914-5ba5298e7a17",
   "metadata": {},
   "outputs": [],
   "source": [
    "# load the package\n",
    "library(bigrquery)\n",
    "# project id\n",
    "projectid = \"ons-fintrans-analysis-prod\"\n",
    "# sql query, you can test this using bigquery first but run in notebooks\n",
    "sql < -\"SELECT * FROM `ons-fintrans-analysis-prod.fin_wip_notebook.test_mcc_sum` LIMIT 10\""
   ]
  },
  {
   "cell_type": "code",
   "execution_count": null,
   "id": "4cc839d6-433a-42c3-8429-3575d2ac7a48",
   "metadata": {},
   "outputs": [],
   "source": [
    "# runs the query and returns the selected data\n",
    "query < -bq_project_query(projectid, sql)"
   ]
  },
  {
   "cell_type": "code",
   "execution_count": null,
   "id": "a960cfe4-16bb-4fe3-8571-95eadadc2473",
   "metadata": {},
   "outputs": [],
   "source": [
    "# returns a dataframe/tibble subset of the queried data\n",
    "query_data < -bq_table_download(query, n_max=5)\n",
    "query_data"
   ]
  }
 ],
 "metadata": {
  "environment": {
   "kernel": "ir",
   "name": "r-cpu.4-2.m102",
   "type": "gcloud",
   "uri": "gcr.io/deeplearning-platform-release/r-cpu.4-2:m102"
  },
  "language_info": {
   "codemirror_mode": "r",
   "file_extension": ".r",
   "mimetype": "text/x-r-source",
   "name": "R",
   "pygments_lexer": "r",
   "version": "4.2.2"
  }
 },
 "nbformat": 4,
 "nbformat_minor": 5
}
