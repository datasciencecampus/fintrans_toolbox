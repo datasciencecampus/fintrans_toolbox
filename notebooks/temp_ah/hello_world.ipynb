{
 "cells": [
  {
   "cell_type": "code",
   "execution_count": null,
   "id": "9867ed13-e469-4cc7-be29-6e05af09f936",
   "metadata": {},
   "outputs": [],
   "source": [
    "#notebooks can store variables locally but will be lost on restart\n",
    "#for bigger intermediary dataframes there is a wip data area\n",
    "message <- \"hello_world\"\n",
    "print(message)"
   ]
  },
  {
   "cell_type": "code",
   "execution_count": null,
   "id": "7e93d780-7401-4473-81d5-05dbb1bad5ef",
   "metadata": {},
   "outputs": [],
   "source": [
    "#load packages as normal, recommended to have a seperate install kernal\n",
    "library(data.table)\n",
    "library(ggplot2)"
   ]
  },
  {
   "cell_type": "code",
   "execution_count": null,
   "id": "06bbf130-81cf-412a-81a4-417e4e5bc3e3",
   "metadata": {},
   "outputs": [],
   "source": [
    "#load default data\n",
    "data(iris)\n",
    "head(iris, 5)"
   ]
  },
  {
   "cell_type": "code",
   "execution_count": null,
   "id": "f861be86-d377-431c-a9ec-01028b23ce70",
   "metadata": {},
   "outputs": [],
   "source": [
    "#check data table and ggplot work\n",
    "class(iris)\n",
    "iris <- data.table(iris)\n",
    "class(iris)"
   ]
  },
  {
   "cell_type": "code",
   "execution_count": null,
   "id": "cd1f3165-48c6-4d89-9260-4f4a8fa59931",
   "metadata": {},
   "outputs": [],
   "source": [
    "#plot\n",
    "ggplot(data = iris, mapping = aes(x = Petal.Length, y = Petal.Width))+\n",
    "geom_line() + \n",
    "facet_wrap(~Species)"
   ]
  },
  {
   "cell_type": "code",
   "execution_count": null,
   "id": "0d59a468-fa70-42ef-8d49-737de92f54da",
   "metadata": {},
   "outputs": [],
   "source": []
  }
 ],
 "metadata": {
  "environment": {
   "kernel": "ir",
   "name": "r-cpu.4-2.m102",
   "type": "gcloud",
   "uri": "gcr.io/deeplearning-platform-release/r-cpu.4-2:m102"
  },
  "language_info": {
   "codemirror_mode": "r",
   "file_extension": ".r",
   "mimetype": "text/x-r-source",
   "name": "R",
   "pygments_lexer": "r",
   "version": "4.2.2"
  }
 },
 "nbformat": 4,
 "nbformat_minor": 5
}
