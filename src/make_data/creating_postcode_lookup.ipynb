{
 "cells": [
  {
   "cell_type": "code",
   "execution_count": null,
   "id": "d431f427-eb3c-4baa-ad9b-93e35f283338",
   "metadata": {},
   "outputs": [],
   "source": [
    "cd"
   ]
  },
  {
   "cell_type": "code",
   "execution_count": null,
   "id": "0042ef51-923a-48ea-bb68-09785bb45051",
   "metadata": {},
   "outputs": [],
   "source": [
    "project_path = \"/home/jupyter\"\n",
    "\n",
    "import sys\n",
    "\n",
    "sys.path.append(project_path)\n",
    "import re\n",
    "\n",
    "import numpy as np\n",
    "import pandas as pd\n",
    "from google.cloud import bigquery\n",
    "\n",
    "from fintrans_toolbox.src.utils import bq_utils as bq\n",
    "from fintrans_toolbox.src.utils import table_utils as t"
   ]
  },
  {
   "cell_type": "code",
   "execution_count": null,
   "id": "4635851a-ca96-4567-a637-6ac53f1a5ec5",
   "metadata": {},
   "outputs": [],
   "source": [
    "client = bigquery.Client()"
   ]
  },
  {
   "cell_type": "code",
   "execution_count": null,
   "id": "bfb9b76e-df2f-41d8-bc7c-d0c028764679",
   "metadata": {},
   "outputs": [],
   "source": [
    "# Merchant locations from retail highstreets\n",
    "sql_merchant_loc = f\"SELECT DISTINCT merchant_location FROM `ons-fintrans-data-prod.fintrans_visa.retail_performance_high_streets_towns_dedupe` WHERE merchant_location_level = 'POSTAL_SECTOR' and mcg = 'All'\"\n",
    "df_merchant = bq.read_bq_table_sql(client, sql_merchant_loc)\n",
    "\n",
    "# Cardholder locations from retail highstreets\n",
    "sql_cardholder_loc = f\"SELECT DISTINCT cardholder_location FROM `ons-fintrans-data-prod.fintrans_visa.retail_performance_high_streets_towns_dedupe` WHERE cardholder_location_level = 'POSTAL_SECTOR' and mcg = 'All'\"\n",
    "df_cardholder = bq.read_bq_table_sql(client, sql_cardholder_loc)\n",
    "\n",
    "# Merchant locations from spend merchant location\n",
    "sql = f\"SELECT DISTINCT merchant_location FROM `ons-fintrans-data-prod.fintrans_visa.spend_merchant_location_dedupe` WHERE merchant_location_level = 'POSTAL_SECTOR' and mcg = 'All'\"\n",
    "df_sml = bq.read_bq_table_sql(client, sql)\n",
    "\n",
    "# cardholder locations from retail highstreets\n",
    "sql = f\"SELECT DISTINCT cardholder_location FROM `ons-fintrans-data-prod.fintrans_visa.spend_origin_and_channel_dedupe` WHERE cardholder_origin_country = 'POSTAL_SECTOR' and mcg = 'All'\"\n",
    "df_spoc = bq.read_bq_table_sql(client, sql)"
   ]
  },
  {
   "cell_type": "code",
   "execution_count": null,
   "id": "62bf7ae4-8bfe-4d1b-98c0-8144537843d1",
   "metadata": {},
   "outputs": [],
   "source": [
    "df_merchant = df_merchant.rename(columns={\"merchant_location\": \"cardholder_location\"})\n",
    "df_sml = df_sml.rename(columns={\"merchant_location\": \"cardholder_location\"})\n",
    "df = pd.concat([df_merchant, df_cardholder, df_spoc, df_sml])\n",
    "df = df.drop_duplicates().reset_index()"
   ]
  },
  {
   "cell_type": "code",
   "execution_count": null,
   "id": "8fc6141b-cb66-4fc4-a0eb-543b79b094da",
   "metadata": {},
   "outputs": [],
   "source": [
    "df"
   ]
  },
  {
   "cell_type": "code",
   "execution_count": null,
   "id": "11c3fa0d-7d9d-433f-ab59-de0942e23546",
   "metadata": {},
   "outputs": [],
   "source": [
    "df[\"postcode_district\"] = df[\"cardholder_location\"].str[:-2]"
   ]
  },
  {
   "cell_type": "code",
   "execution_count": null,
   "id": "5dd5ec59-749a-4708-9ba5-2709062565c6",
   "metadata": {},
   "outputs": [],
   "source": [
    "df"
   ]
  },
  {
   "cell_type": "code",
   "execution_count": null,
   "id": "2fb05c9e-5075-462a-917b-944a67cb6394",
   "metadata": {},
   "outputs": [],
   "source": [
    "df[\"postcode_area\"] = (\n",
    "    df[\"postcode_district\"].str.findall(\"([a-zA-Z ]*)\\d*.*\").apply(\"\".join)\n",
    ")\n",
    "df"
   ]
  },
  {
   "cell_type": "code",
   "execution_count": null,
   "id": "5cebfed6-b8b2-4b19-8b8e-e2b95d233347",
   "metadata": {},
   "outputs": [],
   "source": []
  }
 ],
 "metadata": {
  "environment": {
   "kernel": "python3",
   "name": "r-cpu.4-2.m102",
   "type": "gcloud",
   "uri": "gcr.io/deeplearning-platform-release/r-cpu.4-2:m102"
  },
  "language_info": {
   "codemirror_mode": {
    "name": "ipython",
    "version": 3
   },
   "file_extension": ".py",
   "mimetype": "text/x-python",
   "name": "python",
   "nbconvert_exporter": "python",
   "pygments_lexer": "ipython3",
   "version": "3.7.12"
  }
 },
 "nbformat": 4,
 "nbformat_minor": 5
}
