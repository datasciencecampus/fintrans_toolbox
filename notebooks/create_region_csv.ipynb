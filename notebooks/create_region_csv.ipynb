{
 "cells": [
  {
   "cell_type": "code",
   "execution_count": null,
   "id": "12febd75-5ddd-45b2-94bc-eb3a8bf882f0",
   "metadata": {},
   "outputs": [],
   "source": [
    "#create countries dataframe (sml)\n",
    "import pandas as pd\n",
    "d = {'destination_country':['TAIWAN', 'CHILE', 'EGYPT', 'QATAR', 'PERU',\\\n",
    "                            'BAHRAIN', 'NIGERIA','URUGUAY', 'PANAMA', 'All',\\\n",
    "                            'CHINA', 'INDIA', 'ITALY', 'SPAIN','CANADA',\\\n",
    "                            'DENMARK', 'ROMANIA', 'PORTUGAL', 'ARGENTINA','SINGAPORE',\\\n",
    "                            'LUXEMBOURG', 'NEW ZEALAND', 'SWITZERLAND','SAUDI ARABIA', 'SOUTH AFRICA',\\\n",
    "                            'UNITED KINGDOM','REST OF  EUROPE', 'REST OF  LAT.AM.', 'REPUBLIC OF IRELAND','UNITED STATES OF AMERICA',\\\n",
    "                            'KAZAKHSTAN', 'BERMUDA', 'OMAN','POLAND', 'COLOMBIA',\\\n",
    "                            'BRAZIL', 'CYPRUS', 'FRANCE', 'KUWAIT','MEXICO',\\\n",
    "                            'NORWAY', 'SWEDEN', 'GERMANY', 'THAILAND', 'AUSTRALIA',\\\n",
    "                            'SOUTH KOREA', 'REST OF  ASIAPAC', 'REST OF  C.E.M.E.A.','UNITED ARAB EMIRATES', 'TRINIDAD AND TOBAGO',\\\n",
    "                            'MALAYSIA', 'JAPAN'],\\\n",
    "     'region':['Asia','Latin America', 'Africa', 'Middle East','Latin America',\\\n",
    "               'Middle East','Africa','Latin America','Latin America','All',\\\n",
    "               'Asia','Asia','Europe','Europe','North America',\\\n",
    "               'Europe','Europe','Europe','Latin America','Asia',\\\n",
    "               'Europe','Oceania','Europe','Middle East','Africa',\\\n",
    "               'Europe','Europe','Latin America','Europe','North America',\\\n",
    "               'Asia','Latin America','Middle East','Europe','Latin America',\\\n",
    "               'Latin America','Europe','Europe','Middle East','Latin America',\\\n",
    "               'Europe','Europe','Europe','Asia','Oceania',\\\n",
    "               'Asia','Asia','Middle East','Middle East','Latin America',\\\n",
    "               'Asia','Asia'],\\\n",
    "     'geography':['Country','Country','Country','Country','Country',\\\n",
    "                 'Country','Country','Country','Country','All',\\\n",
    "                 'Country','Country','Country','Country','Country',\\\n",
    "                 'Country','Country','Country','Country','Country',\\\n",
    "                 'Country','Country','Country','Country','Country',\\\n",
    "                 'Country','Region','Region','Country','Country',\\\n",
    "                 'Country','Country','Country','Country','Country',\\\n",
    "                 'Country','Country','Country','Country','Country',\\\n",
    "                 'Country','Country','Country','Country','Country',\\\n",
    "                 'Country','Region','Region','Country','Country',\\\n",
    "                 'Country','Country']}\n"
   ]
  },
  {
   "cell_type": "code",
   "execution_count": null,
   "id": "8a9df00f-2971-49e8-9d22-7fd8ec35ffc0",
   "metadata": {},
   "outputs": [],
   "source": [
    "df = pd.DataFrame(data = d)\n",
    "df\n",
    "#df.to_csv('fintrans_toolbox/data/test_regions.csv')"
   ]
  },
  {
   "cell_type": "code",
   "execution_count": null,
   "id": "d58aea9a-8974-412b-ae0b-12b36c97879e",
   "metadata": {},
   "outputs": [],
   "source": [
    "#SML countries\n",
    "'TAIWAN', 'CHILE', 'EGYPT', 'QATAR', 'PERU', 'BAHRAIN', 'NIGERIA',\n",
    "'URUGUAY', 'PANAMA', 'All', 'CHINA', 'INDIA', 'ITALY', 'SPAIN',\n",
    "'CANADA', 'DENMARK', 'ROMANIA', 'PORTUGAL', 'ARGENTINA',\n",
    "'SINGAPORE', 'LUXEMBOURG', 'NEW ZEALAND', 'SWITZERLAND',\n",
    "'SAUDI ARABIA', 'SOUTH AFRICA', 'UNITED KINGDOM',\n",
    "'REST OF  EUROPE', 'REST OF  LAT.AM.', 'REPUBLIC OF IRELAND',\n",
    "'UNITED STATES OF AMERICA', 'KAZAKHSTAN', 'BERMUDA', 'OMAN',\n",
    "'POLAND', 'COLOMBIA', 'BRAZIL', 'CYPRUS', 'FRANCE', 'KUWAIT',\n",
    "'MEXICO', 'NORWAY', 'SWEDEN', 'GERMANY', 'THAILAND', 'AUSTRALIA',\n",
    "'SOUTH KOREA', 'REST OF  ASIAPAC', 'REST OF  C.E.M.E.A.',\n",
    "'UNITED ARAB EMIRATES', 'TRINIDAD AND TOBAGO', 'MALAYSIA', 'JAPAN'"
   ]
  }
 ],
 "metadata": {
  "environment": {
   "kernel": "python3",
   "name": "r-cpu.4-2.m104",
   "type": "gcloud",
   "uri": "gcr.io/deeplearning-platform-release/r-cpu.4-2:m104"
  },
  "language_info": {
   "codemirror_mode": {
    "name": "ipython",
    "version": 3
   },
   "file_extension": ".py",
   "mimetype": "text/x-python",
   "name": "python",
   "nbconvert_exporter": "python",
   "pygments_lexer": "ipython3",
   "version": "3.7.12"
  }
 },
 "nbformat": 4,
 "nbformat_minor": 5
}
